{
 "cells": [
  {
   "cell_type": "code",
   "execution_count": 1,
   "metadata": {},
   "outputs": [],
   "source": [
    "import pandas as pd"
   ]
  },
  {
   "cell_type": "code",
   "execution_count": 2,
   "metadata": {},
   "outputs": [],
   "source": [
    "raw_data_dir = '../data/raw/'\n",
    "interim_data_dir = '../data/interim/'\n",
    "processed_data_dir = '../data/processed/'\n",
    "external_data_dir = '../data/external/'"
   ]
  },
  {
   "cell_type": "markdown",
   "metadata": {},
   "source": [
    "Get data from gsheet"
   ]
  },
  {
   "cell_type": "code",
   "execution_count": 3,
   "metadata": {},
   "outputs": [
    {
     "name": "stdout",
     "output_type": "stream",
     "text": [
      "while read a b;do rsync -rauLih --progress --delete --include-from=data/raw/include_list.txt   data/raw/$a data/raw/$b;done < data/raw/dir_list.txt\n",
      "python  src/data/get_external_data.py\n",
      "/Users/sperez/Projects/electroporation_modeling/notebooks\n"
     ]
    }
   ],
   "source": [
    "%%bash\n",
    "cd ..\n",
    "make update_data\n",
    "cd -"
   ]
  },
  {
   "cell_type": "markdown",
   "metadata": {},
   "source": [
    "Concatenate it and write it"
   ]
  },
  {
   "cell_type": "code",
   "execution_count": 4,
   "metadata": {},
   "outputs": [],
   "source": [
    "list_dataframes = []\n",
    "for i in ['por1', 'por2', 'por3', 'por4', 'non1', 'non2', 'non3', 'non4']:\n",
    "    df = pd.read_csv(f'{external_data_dir}{i}.csv').drop('Unnamed: 0', axis=1)\n",
    "    df['membrane'] = i\n",
    "    list_dataframes.append(df)"
   ]
  },
  {
   "cell_type": "code",
   "execution_count": 5,
   "metadata": {},
   "outputs": [],
   "source": [
    "df  = pd.concat(list_dataframes)"
   ]
  },
  {
   "cell_type": "code",
   "execution_count": 6,
   "metadata": {},
   "outputs": [
    {
     "data": {
      "text/html": [
       "<div>\n",
       "<style scoped>\n",
       "    .dataframe tbody tr th:only-of-type {\n",
       "        vertical-align: middle;\n",
       "    }\n",
       "\n",
       "    .dataframe tbody tr th {\n",
       "        vertical-align: top;\n",
       "    }\n",
       "\n",
       "    .dataframe thead th {\n",
       "        text-align: right;\n",
       "    }\n",
       "</style>\n",
       "<table border=\"1\" class=\"dataframe\">\n",
       "  <thead>\n",
       "    <tr style=\"text-align: right;\">\n",
       "      <th></th>\n",
       "      <th>xp (A)</th>\n",
       "      <th>yp (A)</th>\n",
       "      <th>tp (ns)</th>\n",
       "      <th>thickness (A)</th>\n",
       "      <th>mean curvature</th>\n",
       "      <th>apl</th>\n",
       "      <th>lipid order</th>\n",
       "      <th>membrane</th>\n",
       "    </tr>\n",
       "  </thead>\n",
       "  <tbody>\n",
       "    <tr>\n",
       "      <th>0</th>\n",
       "      <td>63</td>\n",
       "      <td>119</td>\n",
       "      <td>1.4</td>\n",
       "      <td>31.726623</td>\n",
       "      <td>0.005068</td>\n",
       "      <td>74.286328</td>\n",
       "      <td>0.117472</td>\n",
       "      <td>por1</td>\n",
       "    </tr>\n",
       "    <tr>\n",
       "      <th>1</th>\n",
       "      <td>196</td>\n",
       "      <td>296</td>\n",
       "      <td>2.8</td>\n",
       "      <td>31.007392</td>\n",
       "      <td>-0.022442</td>\n",
       "      <td>90.877349</td>\n",
       "      <td>0.211274</td>\n",
       "      <td>por1</td>\n",
       "    </tr>\n",
       "    <tr>\n",
       "      <th>2</th>\n",
       "      <td>164</td>\n",
       "      <td>96</td>\n",
       "      <td>5.2</td>\n",
       "      <td>27.029021</td>\n",
       "      <td>-0.069034</td>\n",
       "      <td>70.429585</td>\n",
       "      <td>0.196442</td>\n",
       "      <td>por1</td>\n",
       "    </tr>\n",
       "    <tr>\n",
       "      <th>3</th>\n",
       "      <td>253</td>\n",
       "      <td>130</td>\n",
       "      <td>3.4</td>\n",
       "      <td>26.889139</td>\n",
       "      <td>0.037281</td>\n",
       "      <td>73.119575</td>\n",
       "      <td>0.187620</td>\n",
       "      <td>por1</td>\n",
       "    </tr>\n",
       "    <tr>\n",
       "      <th>4</th>\n",
       "      <td>228</td>\n",
       "      <td>163</td>\n",
       "      <td>4.2</td>\n",
       "      <td>29.676475</td>\n",
       "      <td>-0.020645</td>\n",
       "      <td>60.521201</td>\n",
       "      <td>0.103665</td>\n",
       "      <td>por1</td>\n",
       "    </tr>\n",
       "    <tr>\n",
       "      <th>...</th>\n",
       "      <td>...</td>\n",
       "      <td>...</td>\n",
       "      <td>...</td>\n",
       "      <td>...</td>\n",
       "      <td>...</td>\n",
       "      <td>...</td>\n",
       "      <td>...</td>\n",
       "      <td>...</td>\n",
       "    </tr>\n",
       "    <tr>\n",
       "      <th>295</th>\n",
       "      <td>50</td>\n",
       "      <td>290</td>\n",
       "      <td>NaN</td>\n",
       "      <td>34.452100</td>\n",
       "      <td>-0.036453</td>\n",
       "      <td>59.112031</td>\n",
       "      <td>0.127440</td>\n",
       "      <td>non4</td>\n",
       "    </tr>\n",
       "    <tr>\n",
       "      <th>296</th>\n",
       "      <td>100</td>\n",
       "      <td>160</td>\n",
       "      <td>NaN</td>\n",
       "      <td>35.765162</td>\n",
       "      <td>0.007322</td>\n",
       "      <td>61.151208</td>\n",
       "      <td>0.179697</td>\n",
       "      <td>non4</td>\n",
       "    </tr>\n",
       "    <tr>\n",
       "      <th>297</th>\n",
       "      <td>270</td>\n",
       "      <td>160</td>\n",
       "      <td>NaN</td>\n",
       "      <td>35.746662</td>\n",
       "      <td>-0.009054</td>\n",
       "      <td>84.821202</td>\n",
       "      <td>0.150647</td>\n",
       "      <td>non4</td>\n",
       "    </tr>\n",
       "    <tr>\n",
       "      <th>298</th>\n",
       "      <td>220</td>\n",
       "      <td>0</td>\n",
       "      <td>NaN</td>\n",
       "      <td>36.012431</td>\n",
       "      <td>-0.018105</td>\n",
       "      <td>69.988901</td>\n",
       "      <td>0.160694</td>\n",
       "      <td>non4</td>\n",
       "    </tr>\n",
       "    <tr>\n",
       "      <th>299</th>\n",
       "      <td>300</td>\n",
       "      <td>100</td>\n",
       "      <td>NaN</td>\n",
       "      <td>35.986852</td>\n",
       "      <td>-0.001934</td>\n",
       "      <td>73.110032</td>\n",
       "      <td>0.186118</td>\n",
       "      <td>non4</td>\n",
       "    </tr>\n",
       "  </tbody>\n",
       "</table>\n",
       "<p>1440 rows × 8 columns</p>\n",
       "</div>"
      ],
      "text/plain": [
       "     xp (A)  yp (A)  tp (ns)  thickness (A)  mean curvature        apl  \\\n",
       "0        63     119      1.4      31.726623        0.005068  74.286328   \n",
       "1       196     296      2.8      31.007392       -0.022442  90.877349   \n",
       "2       164      96      5.2      27.029021       -0.069034  70.429585   \n",
       "3       253     130      3.4      26.889139        0.037281  73.119575   \n",
       "4       228     163      4.2      29.676475       -0.020645  60.521201   \n",
       "..      ...     ...      ...            ...             ...        ...   \n",
       "295      50     290      NaN      34.452100       -0.036453  59.112031   \n",
       "296     100     160      NaN      35.765162        0.007322  61.151208   \n",
       "297     270     160      NaN      35.746662       -0.009054  84.821202   \n",
       "298     220       0      NaN      36.012431       -0.018105  69.988901   \n",
       "299     300     100      NaN      35.986852       -0.001934  73.110032   \n",
       "\n",
       "     lipid order membrane  \n",
       "0       0.117472     por1  \n",
       "1       0.211274     por1  \n",
       "2       0.196442     por1  \n",
       "3       0.187620     por1  \n",
       "4       0.103665     por1  \n",
       "..           ...      ...  \n",
       "295     0.127440     non4  \n",
       "296     0.179697     non4  \n",
       "297     0.150647     non4  \n",
       "298     0.160694     non4  \n",
       "299     0.186118     non4  \n",
       "\n",
       "[1440 rows x 8 columns]"
      ]
     },
     "execution_count": 6,
     "metadata": {},
     "output_type": "execute_result"
    }
   ],
   "source": [
    "df"
   ]
  },
  {
   "cell_type": "code",
   "execution_count": 7,
   "metadata": {},
   "outputs": [],
   "source": [
    "df.to_csv(f'{processed_data_dir}data.csv')"
   ]
  },
  {
   "cell_type": "code",
   "execution_count": null,
   "metadata": {},
   "outputs": [],
   "source": []
  }
 ],
 "metadata": {
  "kernelspec": {
   "display_name": "Python [conda env:electroporation_modeling]",
   "language": "python",
   "name": "conda-env-electroporation_modeling-py"
  },
  "language_info": {
   "codemirror_mode": {
    "name": "ipython",
    "version": 3
   },
   "file_extension": ".py",
   "mimetype": "text/x-python",
   "name": "python",
   "nbconvert_exporter": "python",
   "pygments_lexer": "ipython3",
   "version": "3.8.5"
  }
 },
 "nbformat": 4,
 "nbformat_minor": 4
}
