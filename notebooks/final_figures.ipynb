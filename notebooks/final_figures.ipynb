{
 "cells": [
  {
   "cell_type": "markdown",
   "id": "ed94a297-5883-47e6-9d04-d0f955bfbd22",
   "metadata": {},
   "source": [
    "# Final Figures"
   ]
  },
  {
   "cell_type": "code",
   "execution_count": null,
   "id": "dacc3412-4dc1-46ef-b567-03260aae9210",
   "metadata": {},
   "outputs": [],
   "source": [
    "import matplotlib.pyplot as plt\n",
    "import matplotlib as mpl\n",
    "import arviz as az\n",
    "import numpy as np\n",
    "import pandas as pd"
   ]
  },
  {
   "cell_type": "code",
   "execution_count": null,
   "id": "84abbcef-2ef6-43d9-b496-ca1e172bdd73",
   "metadata": {},
   "outputs": [],
   "source": [
    "%load_ext autoreload\n",
    "%autoreload 2\n",
    "%load_ext lab_black\n",
    "%load_ext watermark\n",
    "%watermark -n -u -v -iv -w -m"
   ]
  },
  {
   "cell_type": "markdown",
   "id": "9d92bc0d-1cf8-490f-a3c6-5f678201111a",
   "metadata": {},
   "source": [
    "## RC values for final figures"
   ]
  },
  {
   "cell_type": "code",
   "execution_count": null,
   "id": "59ae93e6-6f3b-4728-a312-37530d8adb14",
   "metadata": {},
   "outputs": [],
   "source": [
    "final_fig_decorator = mpl.rc_context(\n",
    "    {\n",
    "        \"text.latex.preamble\": [\n",
    "            r\"\\usepackage{siunitx}\",\n",
    "            r\"\\usepackage{mhchem}\",\n",
    "        ],\n",
    "        \"axes.labelsize\": \"20\",\n",
    "        \"xtick.labelsize\": \"15\",\n",
    "        \"ytick.labelsize\": \"20\",\n",
    "        \"axes.titlesize\": \"15\",\n",
    "        # \"font.family\": \"serif\",\n",
    "        # \"font.serif\": [\"Times\"],\n",
    "        # \"text.usetex\": True,\n",
    "    }\n",
    ")"
   ]
  },
  {
   "cell_type": "code",
   "execution_count": null,
   "id": "1cce1558-af29-4d96-88d8-558f132ae3bb",
   "metadata": {},
   "outputs": [],
   "source": [
    "def load_trace(model_path, url_data):\n",
    "    try:\n",
    "        trace = az.from_netcdf(model_path)\n",
    "    except:\n",
    "        print(\"Need to download model from OSF.\")\n",
    "        import urllib.request\n",
    "\n",
    "        model_name = model_path.split(\"/\")[-1]\n",
    "        urllib.request.urlretrieve(url_data, model_name)\n",
    "        trace = az.from_netcdf(model_name)\n",
    "    return trace"
   ]
  },
  {
   "cell_type": "markdown",
   "id": "babb69b7-8b92-4015-9ae0-01268f39bf49",
   "metadata": {},
   "source": [
    "## Load data and initial values"
   ]
  },
  {
   "cell_type": "code",
   "execution_count": null,
   "id": "e3139f35-370f-4ac2-b573-8c19092a0591",
   "metadata": {},
   "outputs": [],
   "source": [
    "processed_data_dir = \"../data/processed/\""
   ]
  },
  {
   "cell_type": "code",
   "execution_count": null,
   "id": "3e66636c-ce42-4a86-932a-99734ab0da21",
   "metadata": {},
   "outputs": [],
   "source": [
    "df = pd.read_csv(f\"{processed_data_dir}data.csv\").drop(\"Unnamed: 0\", axis=1)"
   ]
  },
  {
   "cell_type": "code",
   "execution_count": null,
   "id": "ca3227d9-60d5-4181-9e7d-210e9dd8b416",
   "metadata": {},
   "outputs": [],
   "source": [
    "df.Replica = df.membrane"
   ]
  },
  {
   "cell_type": "code",
   "execution_count": null,
   "id": "2c7cce68-6f40-429d-bbb2-82233bf5a933",
   "metadata": {},
   "outputs": [],
   "source": [
    "df.Replica = df.Replica.astype(\"category\")"
   ]
  },
  {
   "cell_type": "code",
   "execution_count": null,
   "id": "cbfbf6bb-b85d-434e-9c4a-ca14d3ef8abc",
   "metadata": {},
   "outputs": [],
   "source": [
    "df[\"Replica_enc\"] = df.Replica.cat.codes"
   ]
  },
  {
   "cell_type": "code",
   "execution_count": null,
   "id": "db25a244-366b-4ed9-906e-6e388e0c6205",
   "metadata": {},
   "outputs": [],
   "source": [
    "category_dic = {i: cat for i, cat in enumerate(np.unique(df[\"Replica\"]))}"
   ]
  },
  {
   "cell_type": "code",
   "execution_count": null,
   "id": "71b390c1-07b3-4162-bd94-356cac2e158b",
   "metadata": {},
   "outputs": [],
   "source": [
    "category_dic"
   ]
  },
  {
   "cell_type": "code",
   "execution_count": null,
   "id": "d9af43a9-c34a-45cb-bed6-a5a05c7cdffe",
   "metadata": {},
   "outputs": [],
   "source": [
    "n_categories = len(category_dic)"
   ]
  },
  {
   "cell_type": "code",
   "execution_count": null,
   "id": "cf3ca0e7-1aef-4743-b51c-62a86ffaafef",
   "metadata": {},
   "outputs": [],
   "source": [
    "dummies = pd.get_dummies(df.Replica, prefix=\"Replica\")"
   ]
  },
  {
   "cell_type": "code",
   "execution_count": null,
   "id": "c67f9f8b-ebdb-4b60-b55c-0fa8191d9e97",
   "metadata": {},
   "outputs": [],
   "source": [
    "for col in dummies.columns:\n",
    "    df[col] = dummies[col]"
   ]
  },
  {
   "cell_type": "code",
   "execution_count": null,
   "id": "0152a129-7d8f-4b33-bb1d-da4e697c6a6c",
   "metadata": {},
   "outputs": [],
   "source": [
    "df.tpore = df.tpore * 10\n",
    "df.tpore = df.tpore.astype(int)"
   ]
  },
  {
   "cell_type": "code",
   "execution_count": null,
   "id": "e6ddf7c0-3a3d-4ecf-91d2-f9c339b1164e",
   "metadata": {},
   "outputs": [],
   "source": [
    "n_sims = df.shape[0]\n",
    "sims = np.arange(n_sims)\n",
    "interval_length = 15  # 1.5 ns\n",
    "interval_bounds = np.arange(0, df.tpore.max() + interval_length + 1, interval_length)\n",
    "n_intervals = interval_bounds.size - 1\n",
    "intervals = np.arange(n_intervals)"
   ]
  },
  {
   "cell_type": "code",
   "execution_count": null,
   "id": "d71c9c6a-3203-4c4d-8628-9247510f7f60",
   "metadata": {},
   "outputs": [],
   "source": [
    "last_period = np.floor((df.tpore - 0.01) / interval_length).astype(int)\n",
    "\n",
    "pore = np.zeros((n_sims, n_intervals))\n",
    "pore[sims, last_period] = np.ones(n_sims)"
   ]
  },
  {
   "cell_type": "code",
   "execution_count": null,
   "id": "6ab2ec65-6b55-4f4c-a730-081367039c46",
   "metadata": {},
   "outputs": [],
   "source": [
    "exposure = (\n",
    "    np.greater_equal.outer(df.tpore.values, interval_bounds[:-1]) * interval_length\n",
    ")\n",
    "exposure[sims, last_period] = df.tpore - interval_bounds[last_period]"
   ]
  },
  {
   "cell_type": "markdown",
   "id": "b0065788-8d44-4ca1-b70d-507a05bb6c26",
   "metadata": {
    "tags": []
   },
   "source": [
    "## Plotting Functions"
   ]
  },
  {
   "cell_type": "code",
   "execution_count": null,
   "id": "c693ad9a-d440-4dba-83a0-2295b0eadb58",
   "metadata": {},
   "outputs": [],
   "source": [
    "def get_survival_function_t_dep(trace):\n",
    "    n_intervals = trace.shape[-1]\n",
    "    l = []\n",
    "    for interval in range(n_intervals - 1):\n",
    "        l.append(\n",
    "            np.trapz(\n",
    "                trace.values[:, :, :, 0 : interval + 1],\n",
    "                axis=3,\n",
    "                dx=interval_length,\n",
    "            )\n",
    "        )\n",
    "\n",
    "    l = np.exp(-np.array(l))\n",
    "    return l"
   ]
  },
  {
   "cell_type": "code",
   "execution_count": null,
   "id": "1e6983a5-4511-4cf5-8275-f7b13eab64ad",
   "metadata": {},
   "outputs": [],
   "source": [
    "def get_ecdf(data):\n",
    "    x = np.sort(data)\n",
    "    n = x.size\n",
    "    y = np.arange(1, n + 1) / n\n",
    "    x = np.insert(x, 0, 0.0, axis=0)\n",
    "    y = np.insert(y, 0, 0.0, axis=0)\n",
    "    return x, y"
   ]
  },
  {
   "cell_type": "code",
   "execution_count": null,
   "id": "3d45be89-7dc5-4500-9f1d-fdc61dfa0750",
   "metadata": {},
   "outputs": [],
   "source": [
    "def get_hdi(x, axis, alpha=0.06):\n",
    "    x_mean = np.nanmedian(x, axis=axis)\n",
    "    percentiles = 100 * np.array([alpha / 2.0, 1.0 - alpha / 2.0])\n",
    "    hdi = np.nanpercentile(x, percentiles, axis=axis)\n",
    "\n",
    "    return x_mean, hdi"
   ]
  },
  {
   "cell_type": "code",
   "execution_count": null,
   "id": "b1f8b672-b26e-402b-88b1-4683bb2514f9",
   "metadata": {},
   "outputs": [],
   "source": [
    "def get_survival_function(trace):\n",
    "    l = []\n",
    "    for interval in range(n_intervals - 1):\n",
    "        l.append(\n",
    "            np.trapz(\n",
    "                trace.values[:, :, 0 : interval + 1, :],\n",
    "                axis=2,\n",
    "                dx=interval_length,\n",
    "            )\n",
    "        )\n",
    "\n",
    "    l = np.exp(-np.array(l))\n",
    "    return l"
   ]
  },
  {
   "cell_type": "code",
   "execution_count": null,
   "id": "e1a8ad86-ade0-44e8-badf-eaa6f328c8aa",
   "metadata": {},
   "outputs": [],
   "source": [
    "@final_fig_decorator\n",
    "def plot_posterior_exp_beta(trace, path_out):\n",
    "    fig, ax = plt.subplots(1, 1, figsize=(5, 5))\n",
    "    variable = \"expbeta\"\n",
    "    az.plot_forest(trace, var_names=variable, combined=True, ax=ax)\n",
    "    ax.set_xlabel(r\"$\\exp\\left(\\beta\\right)$\")\n",
    "    ticks = ax.get_yticklabels()\n",
    "    new_tick = ticks[-1].get_text().split()[-1]\n",
    "    ticks[-1].set_text(new_tick)\n",
    "    ax.set_yticklabels(ticks)\n",
    "    ax.set_title(r\"94% Credible Intervals\")\n",
    "    fig.tight_layout()\n",
    "    fig.savefig(path_out)\n",
    "    return fig, ax"
   ]
  },
  {
   "cell_type": "code",
   "execution_count": null,
   "id": "53700334-11c9-4e50-805e-4a18ee37c96e",
   "metadata": {
    "tags": []
   },
   "outputs": [],
   "source": [
    "@final_fig_decorator\n",
    "def plot_ppc(trace, interval_length, title, path_out, t_dep_beta=False):\n",
    "    fig, ax = plt.subplots(1, 1, figsize=(6, 4))\n",
    "    survival_function = (\n",
    "        get_survival_function(trace.posterior.lambda_.astype(np.float16))\n",
    "        if t_dep_beta\n",
    "        else get_survival_function_t_dep(trace.posterior.lambda_.astype(np.float16))\n",
    "    )\n",
    "    # Empyrical CDF data\n",
    "    ax.plot(*get_ecdf(df.tpore / 10), label=\"data\")\n",
    "\n",
    "    # Empyrical CDF data-binned\n",
    "    binned_data = np.where(pore[:, :] == 1)[1] * interval_length / 10\n",
    "    ax.plot(*get_ecdf(binned_data), label=\"data binned\")\n",
    "\n",
    "    # Plot Posterior Predictive\n",
    "    hdi = get_hdi(survival_function[:, :, :, :], axis=(1, 2, 3))\n",
    "    x = np.arange(n_intervals - 1) * interval_length / 10.0\n",
    "    ax.plot(x, 1 - hdi[0], label=\"Posterior Predictive Check\")\n",
    "    ax.fill_between(x, 1 - hdi[1][0, :], 1 - hdi[1][1, :], alpha=0.1, color=\"g\")\n",
    "    ax.set_xlabel(\"$t_{pore}$ (ns)\")\n",
    "    ax.set_ylabel(\"CDF(t)\")\n",
    "    ax.set_title(title)\n",
    "    ax.legend()\n",
    "    fig.tight_layout()\n",
    "    fig.savefig(path_out)\n",
    "    return fig, ax"
   ]
  },
  {
   "cell_type": "code",
   "execution_count": null,
   "id": "9c449530-d570-4948-b34a-80ca889986a1",
   "metadata": {},
   "outputs": [],
   "source": [
    "@final_fig_decorator\n",
    "def plot_posterior_lambda0(trace, path_out, title=\"\", ylim=None):\n",
    "    fig, ax = plt.subplots(1, 1, figsize=(8, 5))\n",
    "    lambda0 = trace.posterior.lambda0.values\n",
    "    y, hdi = get_hdi(lambda0, (0, 1))\n",
    "    x = interval_bounds[:-1] / 10\n",
    "    ax.fill_between(x, hdi[0], hdi[1], alpha=0.25, step=\"post\", color=\"grey\")\n",
    "    ax.step(x, y, label=\"baseline\", color=\"grey\", where=\"post\")\n",
    "    ax.set_ylabel(r\"$\\lambda_0(t)$ ns$^{-1}$\")\n",
    "    ax.set_xlabel(\"$t$ (ns)\")\n",
    "    ax.set_title(title)\n",
    "    if ylim is not None:\n",
    "        ax.set_ylim([0, 12])\n",
    "    fig.tight_layout()\n",
    "    fig.savefig(path_out)\n",
    "    return fig, ax"
   ]
  },
  {
   "cell_type": "code",
   "execution_count": null,
   "id": "4122faf2-100d-4828-a045-080a05917035",
   "metadata": {},
   "outputs": [],
   "source": [
    "@final_fig_decorator\n",
    "def plot_posterior_beta_of_t(trace, category_dic, path_out):\n",
    "    fig, ax = plt.subplots(1, 1, figsize=(9, 6))\n",
    "\n",
    "    n_categories = len(category_dic)\n",
    "    betas = trace.posterior.beta.values\n",
    "    for i in range(n_categories):\n",
    "        # Mask by replica type\n",
    "        y, hdi = get_hdi(betas[:, :, :, i], axis=(0, 1))\n",
    "        x = np.arange(n_intervals) * interval_length / 10.0\n",
    "        x = interval_bounds[:-1] / 10\n",
    "        ax.step(x, y, where=\"post\", label=f\"Beta {category_dic[i]}\")\n",
    "        ax.fill_between(\n",
    "            x,\n",
    "            hdi[0],\n",
    "            hdi[1],\n",
    "            step=\"post\",\n",
    "            alpha=0.1,\n",
    "        )\n",
    "    ax.set_xlabel(r\"$t_{pore}$ (ns)\")\n",
    "    ax.set_ylabel(r\"$\\beta (t)$\")\n",
    "    ax.set_title(r\"Time dependent $\\beta$ model\")\n",
    "    ax.legend()\n",
    "    fig.tight_layout()\n",
    "    fig.savefig(path_out)\n",
    "    return fig, ax"
   ]
  },
  {
   "cell_type": "code",
   "execution_count": null,
   "id": "ce43f844-3651-40f9-936d-644897dc6a36",
   "metadata": {},
   "outputs": [],
   "source": [
    "@final_fig_decorator\n",
    "def plot_kde_t_pore(df0, path_out):\n",
    "    from seaborn import kdeplot\n",
    "\n",
    "    fig, ax = plt.subplots(1, 1, figsize=(9, 6))\n",
    "    df0.tpore = df0.tpore / 10\n",
    "    kdeplot(data=df0, x=\"tpore\", hue=\"Replica\", ax=ax, lw=3)\n",
    "    legend = ax.get_legend()\n",
    "    legend.set_title(\"\")\n",
    "    ax.set_xlabel(r\"$t_{pore}$ (ns)\")\n",
    "    ax.set_ylabel(r\"$p(t_{pore})$\")\n",
    "    ax.set_yticklabels([])\n",
    "    ax.set_yticks([])\n",
    "    ax.set_xlim(left=0, right=20)\n",
    "    fig.tight_layout()\n",
    "    fig.savefig(path_out)\n",
    "    return fig, ax"
   ]
  },
  {
   "cell_type": "markdown",
   "id": "4e8c7b68-8b83-4d59-892d-0b844567073f",
   "metadata": {
    "tags": []
   },
   "source": [
    "## Posterior Predictive Checks"
   ]
  },
  {
   "cell_type": "code",
   "execution_count": null,
   "id": "4d41b67b-4d78-4017-9e46-c6799f4694f5",
   "metadata": {
    "tags": []
   },
   "outputs": [],
   "source": [
    "model_path = \"../models/tpore_survival_analysis_same_membrane.nc\"\n",
    "url_data = \"https://osf.io/pgjtm/download\"\n",
    "trace = load_trace(model_path, url_data)\n",
    "fig, ax = plot_ppc(\n",
    "    trace,\n",
    "    interval_length,\n",
    "    \"Combining same membrane and same field\",\n",
    "    \"../reports/final_figures/ppc_same_membrane.svg\",\n",
    ")"
   ]
  },
  {
   "cell_type": "code",
   "execution_count": null,
   "id": "8166a62f-c6dc-4b79-ba9f-7a8fe25236fb",
   "metadata": {
    "tags": []
   },
   "outputs": [],
   "source": [
    "model_path = \"../models/tpore_survival_analysis_individual_sim.nc\"\n",
    "url_data = \"https://osf.io/rkc97/download\"\n",
    "trace = load_trace(model_path, url_data)\n",
    "fig, ax = plot_ppc(\n",
    "    trace,\n",
    "    interval_length,\n",
    "    \"Separating individual simulations\",\n",
    "    \"../reports/final_figures/ppc_individual_sim.svg\",\n",
    ")"
   ]
  },
  {
   "cell_type": "code",
   "execution_count": null,
   "id": "03c39501-5de7-4ea4-a463-512525e7fdf7",
   "metadata": {
    "tags": []
   },
   "outputs": [],
   "source": [
    "model_path = \"../models/tpore_survival_analysis_time_dep_beta_same_membrane.nc\"\n",
    "url_data = \"https://osf.io/yh6fw/download\"\n",
    "trace = load_trace(model_path, url_data)\n",
    "fig, ax = plot_ppc(\n",
    "    trace,\n",
    "    interval_length,\n",
    "    r\"Time dependent $\\beta$\",\n",
    "    \"../reports/final_figures/ppc_time_dependent_beta.svg\",\n",
    "    t_dep_beta=True,\n",
    ")"
   ]
  },
  {
   "cell_type": "markdown",
   "id": "e1bdc367-06af-4b41-b610-b9e6bc7da65b",
   "metadata": {
    "tags": []
   },
   "source": [
    "## Posterior Beta Values"
   ]
  },
  {
   "cell_type": "code",
   "execution_count": null,
   "id": "05eaa3c2-1bc6-4033-9dc6-26e302b32bb6",
   "metadata": {
    "tags": []
   },
   "outputs": [],
   "source": [
    "model_path = \"../models/tpore_survival_analysis_same_membrane.nc\"\n",
    "url_data = \"https://osf.io/pgjtm/download\"\n",
    "trace = load_trace(model_path, url_data)\n",
    "trace.posterior = trace.posterior.rename({\"exp_beta\": \"expbeta\"})\n",
    "fig, ax = plot_posterior_exp_beta(\n",
    "    trace, \"../reports/final_figures/posterior_exp_beta_same_membrane.svg\"\n",
    ")"
   ]
  },
  {
   "cell_type": "code",
   "execution_count": null,
   "id": "69f55e44-5dca-4d62-b047-0e87aa387ef2",
   "metadata": {
    "tags": []
   },
   "outputs": [],
   "source": [
    "model_path = \"../models/tpore_survival_analysis_individual_sim.nc\"\n",
    "url_data = \"https://osf.io/rkc97/download\"\n",
    "trace = load_trace(model_path, url_data)\n",
    "trace.posterior = trace.posterior.rename({\"exp_beta\": \"expbeta\"})\n",
    "\n",
    "# If rendering with latex need to escape underscores.\n",
    "\n",
    "# change_underscores = lambda s: s.replace(\"_\", \"\\_\")\n",
    "# change_underscores = np.vectorize(change_underscores)\n",
    "# trace = trace.assign_coords(\n",
    "#    Membrane=change_underscores(trace.posterior.Membrane.values)\n",
    "# )\n",
    "fig, ax = plot_posterior_exp_beta(\n",
    "    trace, \"../reports/final_figures/posterior_exp_beta_individual_sim.svg\"\n",
    ")"
   ]
  },
  {
   "cell_type": "markdown",
   "id": "68dceec4-4078-428b-8219-63d425406dbe",
   "metadata": {
    "tags": []
   },
   "source": [
    "## Plotting lambda posterior"
   ]
  },
  {
   "cell_type": "code",
   "execution_count": null,
   "id": "03bb7e7d-771c-41b7-84a3-629b81604f47",
   "metadata": {
    "tags": []
   },
   "outputs": [],
   "source": [
    "model_path = \"../models/tpore_survival_analysis_same_membrane.nc\"\n",
    "url_data = \"https://osf.io/pgjtm/download\"\n",
    "trace = load_trace(model_path, url_data)\n",
    "trace.posterior = trace.posterior.rename({\"exp_beta\": \"expbeta\"})\n",
    "fig, ax = plot_posterior_lambda0(\n",
    "    trace, \"../reports/final_figures/posterior_lambda0_same_membrane.svg\"\n",
    ")\n",
    "ax.set_ylim([0, 12])"
   ]
  },
  {
   "cell_type": "markdown",
   "id": "ef4253b4-fb7d-42c6-823f-4d65bdb9cf8a",
   "metadata": {
    "tags": []
   },
   "source": [
    "## Plotting lambda posterior time dependent model"
   ]
  },
  {
   "cell_type": "code",
   "execution_count": null,
   "id": "8d6fc1c7-4eab-4408-959f-178cbf3ce0f4",
   "metadata": {
    "tags": []
   },
   "outputs": [],
   "source": [
    "model_path = \"../models/tpore_survival_analysis_time_dep_beta_same_membrane.nc\"\n",
    "url_data = \"https://osf.io/yh6fw/download\"\n",
    "trace = load_trace(model_path, url_data)\n",
    "trace.posterior = trace.posterior.rename({\"exp_beta\": \"expbeta\"})\n",
    "trace.posterior[\"lambda0\"] = trace.posterior.lambda0.squeeze(\"lambda0_dim_0\", drop=True)\n",
    "fig, ax = plot_posterior_lambda0(\n",
    "    trace,\n",
    "    \"../reports/final_figures/posterior_lambda0_time_dep_beta.svg\",\n",
    "    title=r\"Time dependent $\\beta$ model\",\n",
    "    ylim=[0, 12],\n",
    ")"
   ]
  },
  {
   "cell_type": "markdown",
   "id": "f52c7f6f-f74a-4c2b-8145-208e65c33cc6",
   "metadata": {
    "tags": []
   },
   "source": [
    "## Beta time dependent"
   ]
  },
  {
   "cell_type": "code",
   "execution_count": null,
   "id": "f7cd49e6-21ee-4412-9b69-0accd799077e",
   "metadata": {
    "tags": []
   },
   "outputs": [],
   "source": [
    "model_path = \"../models/tpore_survival_analysis_time_dep_beta_same_membrane.nc\"\n",
    "url_data = \"https://osf.io/yh6fw/download\"\n",
    "trace = load_trace(model_path, url_data)\n",
    "fig, ax = plot_posterior_beta_of_t(\n",
    "    trace,\n",
    "    category_dic,\n",
    "    \"../reports/final_figures/posterior_beta_of_t.svg\",\n",
    ")"
   ]
  },
  {
   "cell_type": "markdown",
   "id": "c23fab5b-f0bf-419c-8b76-7146a6f58395",
   "metadata": {
    "tags": []
   },
   "source": [
    "## Histograms of poration times"
   ]
  },
  {
   "cell_type": "code",
   "execution_count": null,
   "id": "b318512e-f7e3-42d9-81c8-3f55a60dab99",
   "metadata": {},
   "outputs": [],
   "source": [
    "_ = plot_kde_t_pore(df.copy(), \"../reports/final_figures/t_pore_distribution.svg\")"
   ]
  },
  {
   "cell_type": "code",
   "execution_count": null,
   "id": "026ae8be-81cf-4403-9472-e923d8bd00a1",
   "metadata": {},
   "outputs": [],
   "source": []
  }
 ],
 "metadata": {
  "kernelspec": {
   "display_name": "electroporation_modeling",
   "language": "python",
   "name": "electroporation_modeling"
  },
  "language_info": {
   "codemirror_mode": {
    "name": "ipython",
    "version": 3
   },
   "file_extension": ".py",
   "mimetype": "text/x-python",
   "name": "python",
   "nbconvert_exporter": "python",
   "pygments_lexer": "ipython3",
   "version": "3.9.6"
  },
  "widgets": {
   "application/vnd.jupyter.widget-state+json": {
    "state": {},
    "version_major": 2,
    "version_minor": 0
   }
  }
 },
 "nbformat": 4,
 "nbformat_minor": 5
}
