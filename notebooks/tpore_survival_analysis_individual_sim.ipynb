{
 "cells": [
  {
   "cell_type": "code",
   "execution_count": null,
   "metadata": {
    "tags": []
   },
   "outputs": [],
   "source": [
    "import pandas as pd\n",
    "import pymc3 as pm\n",
    "import numpy as np\n",
    "import seaborn as sns\n",
    "import arviz as az\n",
    "import matplotlib.pyplot as plt\n",
    "import spc_os\n",
    "from spc_vis import my_plot_ppc\n",
    "\n",
    "RANDOM_SEED = 28101990\n",
    "import pickle\n",
    "\n",
    "from math import ceil\n",
    "import theano.tensor as T\n",
    "import scipy.stats as st"
   ]
  },
  {
   "cell_type": "code",
   "execution_count": null,
   "metadata": {},
   "outputs": [],
   "source": [
    "%load_ext autoreload\n",
    "%autoreload 2\n",
    "%load_ext lab_black\n",
    "%load_ext watermark\n",
    "%watermark -n -u -v -iv -w -m"
   ]
  },
  {
   "cell_type": "code",
   "execution_count": null,
   "metadata": {},
   "outputs": [],
   "source": [
    "raw_data_dir = \"../data/raw/\"\n",
    "interim_data_dir = \"../data/interim/\"\n",
    "processed_data_dir = \"../data/processed/\"\n",
    "external_data_dir = \"../data/external/\"\n",
    "models_dir = \"../models/\""
   ]
  },
  {
   "cell_type": "code",
   "execution_count": null,
   "metadata": {},
   "outputs": [],
   "source": [
    "model_path = models_dir + f\"tpore_survival_analysis_individual_sim.nc\""
   ]
  },
  {
   "cell_type": "code",
   "execution_count": null,
   "metadata": {},
   "outputs": [],
   "source": [
    "infer = True\n",
    "save_data = True\n",
    "print(model_path)"
   ]
  },
  {
   "cell_type": "markdown",
   "metadata": {},
   "source": [
    "# Load data"
   ]
  },
  {
   "cell_type": "code",
   "execution_count": null,
   "metadata": {},
   "outputs": [],
   "source": [
    "df = pd.read_csv(f\"{processed_data_dir}data.csv\").drop(\"Unnamed: 0\", axis=1)"
   ]
  },
  {
   "cell_type": "code",
   "execution_count": null,
   "metadata": {},
   "outputs": [],
   "source": [
    "df.Replica = df.Replica.astype(\"category\")"
   ]
  },
  {
   "cell_type": "code",
   "execution_count": null,
   "metadata": {},
   "outputs": [],
   "source": [
    "df[\"Replica_enc\"] = df.Replica.cat.codes"
   ]
  },
  {
   "cell_type": "code",
   "execution_count": null,
   "metadata": {},
   "outputs": [],
   "source": [
    "category_dic = {i: cat for i, cat in enumerate(np.unique(df[\"Replica\"]))}"
   ]
  },
  {
   "cell_type": "code",
   "execution_count": null,
   "metadata": {},
   "outputs": [],
   "source": [
    "category_dic"
   ]
  },
  {
   "cell_type": "code",
   "execution_count": null,
   "metadata": {},
   "outputs": [],
   "source": [
    "n_categories = len(category_dic)"
   ]
  },
  {
   "cell_type": "code",
   "execution_count": null,
   "metadata": {},
   "outputs": [],
   "source": [
    "dummies = pd.get_dummies(df.Replica, prefix=\"Replica\")"
   ]
  },
  {
   "cell_type": "code",
   "execution_count": null,
   "metadata": {},
   "outputs": [],
   "source": [
    "for col in dummies.columns:\n",
    "    df[col] = dummies[col]"
   ]
  },
  {
   "cell_type": "code",
   "execution_count": null,
   "metadata": {},
   "outputs": [],
   "source": [
    "df.tpore = df.tpore * 10\n",
    "df.tpore = df.tpore.astype(int)"
   ]
  },
  {
   "cell_type": "code",
   "execution_count": null,
   "metadata": {},
   "outputs": [],
   "source": [
    "df.head()"
   ]
  },
  {
   "cell_type": "markdown",
   "metadata": {},
   "source": [
    "## Visualize Data"
   ]
  },
  {
   "cell_type": "code",
   "execution_count": null,
   "metadata": {},
   "outputs": [],
   "source": [
    "df[\"tpore\"].groupby(df[\"Replica\"]).describe()"
   ]
  },
  {
   "cell_type": "code",
   "execution_count": null,
   "metadata": {},
   "outputs": [],
   "source": [
    "_ = df[\"tpore\"].hist(by=df[\"Replica\"], sharex=True, density=True, bins=10)"
   ]
  },
  {
   "cell_type": "code",
   "execution_count": null,
   "metadata": {},
   "outputs": [],
   "source": [
    "_ = df[\"tpore\"].hist(bins=50)"
   ]
  },
  {
   "cell_type": "markdown",
   "metadata": {},
   "source": [
    "## Visualize Priors"
   ]
  },
  {
   "cell_type": "markdown",
   "metadata": {},
   "source": [
    "These are the shapes of the priors used."
   ]
  },
  {
   "cell_type": "code",
   "execution_count": null,
   "metadata": {},
   "outputs": [],
   "source": [
    "beta = 1\n",
    "alpha = 1\n",
    "d = st.gamma(scale=1 / beta, a=alpha)\n",
    "x = np.linspace(0, 10, 100)\n",
    "tau_0_pdf = d.pdf(x)\n",
    "plt.plot(x, tau_0_pdf, \"k-\", lw=2)\n",
    "plt.xlabel(\"lambda0(t)\")"
   ]
  },
  {
   "cell_type": "markdown",
   "metadata": {},
   "source": [
    "## Prepare data"
   ]
  },
  {
   "cell_type": "code",
   "execution_count": null,
   "metadata": {},
   "outputs": [],
   "source": [
    "n_sims = df.shape[0]\n",
    "sims = np.arange(n_sims)\n",
    "interval_length = 15  # 1.5 ns\n",
    "interval_bounds = np.arange(0, df.tpore.max() + interval_length + 1, interval_length)\n",
    "n_intervals = interval_bounds.size - 1\n",
    "intervals = np.arange(n_intervals)"
   ]
  },
  {
   "cell_type": "code",
   "execution_count": null,
   "metadata": {},
   "outputs": [],
   "source": [
    "last_period = np.floor((df.tpore - 0.01) / interval_length).astype(int)\n",
    "\n",
    "pore = np.zeros((n_sims, n_intervals))\n",
    "pore[sims, last_period] = np.ones(n_sims)"
   ]
  },
  {
   "cell_type": "code",
   "execution_count": null,
   "metadata": {},
   "outputs": [],
   "source": [
    "exposure = (\n",
    "    np.greater_equal.outer(df.tpore.values, interval_bounds[:-1]) * interval_length\n",
    ")\n",
    "exposure[sims, last_period] = df.tpore - interval_bounds[last_period]"
   ]
  },
  {
   "cell_type": "markdown",
   "metadata": {},
   "source": [
    "## Run Model"
   ]
  },
  {
   "cell_type": "code",
   "execution_count": null,
   "metadata": {},
   "outputs": [],
   "source": [
    "with pm.Model() as model:\n",
    "\n",
    "    lambda0 = pm.Gamma(\"lambda0\", 5, 1, shape=n_intervals)\n",
    "\n",
    "    beta = pm.Normal(\"beta\", 0, sigma=100, shape=(n_categories))\n",
    "\n",
    "    lambda_ = pm.Deterministic(\n",
    "        \"lambda_\", T.outer(T.exp(T.dot(beta, dummies.T)), lambda0)\n",
    "    )\n",
    "    mu = pm.Deterministic(\"mu\", exposure * lambda_)\n",
    "    exp_beta = pm.Deterministic(\"exp_beta\", np.exp(beta))\n",
    "\n",
    "    obs = pm.Poisson(\n",
    "        \"obs\",\n",
    "        mu,\n",
    "        observed=pore,\n",
    "    )"
   ]
  },
  {
   "cell_type": "code",
   "execution_count": null,
   "metadata": {},
   "outputs": [],
   "source": [
    "pm.model_to_graphviz(model)"
   ]
  },
  {
   "cell_type": "code",
   "execution_count": null,
   "metadata": {
    "tags": []
   },
   "outputs": [],
   "source": [
    "%%time\n",
    "if infer:\n",
    "    with model:\n",
    "        trace = pm.sample(1000, tune=1000, random_seed=RANDOM_SEED, return_inferencedata=True, cores=8)\n",
    "else:\n",
    "     trace=az.from_netcdf(model_path)"
   ]
  },
  {
   "cell_type": "code",
   "execution_count": null,
   "metadata": {
    "tags": []
   },
   "outputs": [],
   "source": [
    "if infer:\n",
    "    trace.posterior = trace.posterior.reset_index(\n",
    "        [\"beta_dim_0\", \"exp_beta_dim_0\", \"lambda0_dim_0\"], drop=True\n",
    "    )\n",
    "    trace = trace.rename(\n",
    "        {\n",
    "            \"lambda0_dim_0\": \"t\",\n",
    "            \"beta_dim_0\": \"Membrane\",\n",
    "            \"exp_beta_dim_0\": \"Membrane\",\n",
    "        }\n",
    "    )\n",
    "    trace = trace.assign_coords(\n",
    "        t=interval_bounds[:-1] / 10,\n",
    "        Membrane=list(category_dic.values()),\n",
    "    )"
   ]
  },
  {
   "cell_type": "markdown",
   "metadata": {},
   "source": [
    "## Posterior and prior predictive and "
   ]
  },
  {
   "cell_type": "code",
   "execution_count": null,
   "metadata": {
    "tags": []
   },
   "outputs": [],
   "source": [
    "%%time\n",
    "if infer:\n",
    "    with model:\n",
    "        ppc = pm.sample_posterior_predictive(trace,  random_seed=RANDOM_SEED, samples=10000)\n",
    "        print('Done infering.')\n",
    "    trace = az.concat(trace, az.from_pymc3(posterior_predictive=ppc))"
   ]
  },
  {
   "cell_type": "code",
   "execution_count": null,
   "metadata": {
    "tags": []
   },
   "outputs": [],
   "source": [
    "%%time\n",
    "# Prior predictive not important: uninformative priors\n",
    "#if infer:\n",
    "#    with model:\n",
    "#        prior = pm.sample_prior_predictive(random_seed=RANDOM_SEED, samples=1000)\n",
    "#        trace.extend(az.from_pymc3(prior=prior))"
   ]
  },
  {
   "cell_type": "markdown",
   "metadata": {},
   "source": [
    "## Convergences"
   ]
  },
  {
   "cell_type": "code",
   "execution_count": null,
   "metadata": {
    "tags": []
   },
   "outputs": [],
   "source": [
    "with az.rc_context(rc={\"plot.max_subplots\": None}):\n",
    "    az.plot_trace(trace, var_names=[\"beta\", \"lambda0\"])"
   ]
  },
  {
   "cell_type": "code",
   "execution_count": null,
   "metadata": {},
   "outputs": [],
   "source": [
    "with az.rc_context(rc={\"plot.max_subplots\": None}):\n",
    "    az.plot_autocorr(trace, combined=True, var_names=[\"lambda0\", \"beta\"])"
   ]
  },
  {
   "cell_type": "code",
   "execution_count": null,
   "metadata": {},
   "outputs": [],
   "source": [
    "def get_survival_function(trace):\n",
    "    l = []\n",
    "    for interval in range(n_intervals - 1):\n",
    "        l.append(\n",
    "            np.trapz(\n",
    "                trace.values[:, :, :, 0 : interval + 1],\n",
    "                axis=3,\n",
    "                dx=interval_length,\n",
    "            )\n",
    "        )\n",
    "\n",
    "    l = np.exp(-np.array(l))\n",
    "    return l"
   ]
  },
  {
   "cell_type": "code",
   "execution_count": null,
   "metadata": {},
   "outputs": [],
   "source": [
    "def get_ecdf(data):\n",
    "    x = np.sort(data)\n",
    "    n = x.size\n",
    "    y = np.arange(1, n + 1) / n\n",
    "    return x, y"
   ]
  },
  {
   "cell_type": "code",
   "execution_count": null,
   "metadata": {},
   "outputs": [],
   "source": [
    "def get_hdi(x, axis, alpha=0.06):\n",
    "    x_mean = np.nanmedian(x, axis=axis)\n",
    "    percentiles = 100 * np.array([alpha / 2.0, 1.0 - alpha / 2.0])\n",
    "    hdi = np.nanpercentile(x, percentiles, axis=axis)\n",
    "\n",
    "    return x_mean, hdi"
   ]
  },
  {
   "cell_type": "code",
   "execution_count": null,
   "metadata": {},
   "outputs": [],
   "source": [
    "fig, ax = plt.subplots(1, 1, figsize=(6, 4))\n",
    "\n",
    "survival_function = get_survival_function(trace.posterior.lambda_)\n",
    "# Empyrical CDF data\n",
    "ax.plot(*get_ecdf(df.tpore / 10), label=\"obs.\")\n",
    "\n",
    "# Empyrical CDF data-binned\n",
    "binned_data = np.where(pore[:, :] == 1)[1] * interval_length / 10\n",
    "ax.plot(*get_ecdf(binned_data), label=\"obs. binned\")\n",
    "\n",
    "# Plot Posterior Predictive\n",
    "hdi = get_hdi(survival_function[:, :, :, :], axis=(1, 2, 3))\n",
    "x = np.arange(n_intervals - 1) * interval_length / 10.0\n",
    "ax.plot(x, 1 - hdi[0], label=\"Posterior Predictive Check\")\n",
    "ax.fill_between(x, 1 - hdi[1][0, :], 1 - hdi[1][1, :], alpha=0.1, color=\"g\")\n",
    "ax.set_xlabel(\"t-pore (ns)\")\n",
    "ax.set_ylabel(\"CDF(t-pore)\")\n",
    "ax.set_title(\"Posterior Predictive Check\")\n",
    "ax.legend()"
   ]
  },
  {
   "cell_type": "code",
   "execution_count": null,
   "metadata": {},
   "outputs": [],
   "source": [
    "n_categories = len(category_dic)\n",
    "n_rows = ceil(n_categories / 4)\n",
    "fig, ax = plt.subplots(n_rows, 4, figsize=(6 * 4, 4 * n_rows))\n",
    "\n",
    "ax = ax.flatten()\n",
    "for i in range(n_categories):\n",
    "    # Mask by replica type\n",
    "    mask = df.Replica == category_dic[i]\n",
    "\n",
    "    survival_function = get_survival_function(trace.posterior.lambda_[:, :, mask, :])\n",
    "    # Empyrical CDF data\n",
    "    ax[i].plot(*get_ecdf(df[mask].tpore / 10), label=\"obs.\")\n",
    "\n",
    "    # Empyrical CDF data-binned\n",
    "    binned_data = np.where(pore[mask, :] == 1)[1] * interval_length / 10\n",
    "    ax[i].plot(*get_ecdf(binned_data), label=\"obs. binned\")\n",
    "\n",
    "    # Plot Posterior Predictive\n",
    "    hdi = get_hdi(survival_function[:, :, :, :], axis=(1, 2, 3))\n",
    "    x = np.arange(n_intervals - 1) * interval_length / 10.0\n",
    "    ax[i].plot(x, 1 - hdi[0], label=\"Posterior Predictive Check\")\n",
    "    ax[i].fill_between(x, 1 - hdi[1][0, :], 1 - hdi[1][1, :], alpha=0.1, color=\"g\")\n",
    "    ax[i].set_xlabel(\"t-pore (ns)\")\n",
    "    ax[i].set_ylabel(\"CDF(t-pore)\")\n",
    "    ax[i].set_title(f\"Posterior Predictive Check {category_dic[i]}\")\n",
    "    ax[i].legend()\n",
    "fig.tight_layout()"
   ]
  },
  {
   "cell_type": "markdown",
   "metadata": {},
   "source": [
    "## Analyze"
   ]
  },
  {
   "cell_type": "markdown",
   "metadata": {},
   "source": [
    "### Plot posterior"
   ]
  },
  {
   "cell_type": "code",
   "execution_count": null,
   "metadata": {},
   "outputs": [],
   "source": [
    "variable = \"lambda0\"\n",
    "ax = az.plot_forest(trace, var_names=variable, combined=True)\n",
    "ax[0].set_xlabel(\"lambda0[t]\")"
   ]
  },
  {
   "cell_type": "code",
   "execution_count": null,
   "metadata": {},
   "outputs": [],
   "source": [
    "variable = \"beta\"\n",
    "ax = az.plot_forest(trace, var_names=variable, combined=True)\n",
    "ax[0].set_xlabel(\"beta\")"
   ]
  },
  {
   "cell_type": "code",
   "execution_count": null,
   "metadata": {},
   "outputs": [],
   "source": [
    "variable = \"exp_beta\"\n",
    "ax = az.plot_forest(trace, var_names=variable, combined=True)\n",
    "ax[0].set_xlabel(\"exp(beta)\")"
   ]
  },
  {
   "cell_type": "code",
   "execution_count": null,
   "metadata": {},
   "outputs": [],
   "source": [
    "hdi = az.hdi(trace.posterior, var_names=[\"exp_beta\"])\n",
    "for i in range(n_categories):\n",
    "    print(f\"{category_dic[i]} {hdi.exp_beta[i,:].values.mean()}\")"
   ]
  },
  {
   "cell_type": "code",
   "execution_count": null,
   "metadata": {},
   "outputs": [],
   "source": [
    "fig, ax = plt.subplots(1, 2, figsize=(20, 7))\n",
    "lambda0 = trace.posterior.lambda0.values\n",
    "beta = trace.posterior.beta.values\n",
    "y, hdi = get_hdi(lambda0, (0, 1))\n",
    "x = interval_bounds[:-1] / 10\n",
    "ax[0].fill_between(x, hdi[0], hdi[1], alpha=0.25, step=\"pre\", color=\"grey\")\n",
    "ax[0].step(x, y, label=\"baseline\", color=\"grey\")\n",
    "for i in range(n_categories):\n",
    "    lam = np.exp(beta[:, :, [i]]) * lambda0\n",
    "    y, hdi = get_hdi(lam, (0, 1))\n",
    "    ax[1].fill_between(x, hdi[0], hdi[1], alpha=0.25, step=\"pre\")\n",
    "    ax[1].step(x, y, label=f\"{category_dic[i]}\")\n",
    "\n",
    "ax[0].legend(loc=\"best\")\n",
    "ax[0].set_ylabel(\"lambda0\")\n",
    "ax[0].set_xlabel(\"t (ns)\")\n",
    "ax[1].legend(loc=\"best\")\n",
    "ax[1].set_ylabel(\"lambda_i\")\n",
    "ax[1].set_xlabel(\"t (ns)\")"
   ]
  },
  {
   "cell_type": "markdown",
   "metadata": {},
   "source": [
    "## Save Model?"
   ]
  },
  {
   "cell_type": "code",
   "execution_count": null,
   "metadata": {},
   "outputs": [],
   "source": [
    "print(model_path)"
   ]
  },
  {
   "cell_type": "code",
   "execution_count": null,
   "metadata": {},
   "outputs": [],
   "source": [
    "if save_data:\n",
    "    spc_os.remove(model_path)\n",
    "    trace.to_netcdf(model_path)"
   ]
  },
  {
   "cell_type": "code",
   "execution_count": null,
   "metadata": {},
   "outputs": [],
   "source": []
  }
 ],
 "metadata": {
  "kernelspec": {
   "display_name": "electroporation_modeling",
   "language": "python",
   "name": "electroporation_modeling"
  },
  "language_info": {
   "codemirror_mode": {
    "name": "ipython",
    "version": 3
   },
   "file_extension": ".py",
   "mimetype": "text/x-python",
   "name": "python",
   "nbconvert_exporter": "python",
   "pygments_lexer": "ipython3",
   "version": "3.9.6"
  },
  "widgets": {
   "application/vnd.jupyter.widget-state+json": {
    "state": {},
    "version_major": 2,
    "version_minor": 0
   }
  }
 },
 "nbformat": 4,
 "nbformat_minor": 4
}
