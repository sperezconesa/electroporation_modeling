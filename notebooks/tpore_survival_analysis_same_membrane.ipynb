{
 "cells": [
  {
   "cell_type": "code",
   "execution_count": null,
   "metadata": {},
   "outputs": [],
   "source": [
    "%load_ext autoreload\n",
    "%autoreload 2\n",
    "%load_ext lab_black\n",
    "# Sometimes if too much logging\n",
    "#"
   ]
  },
  {
   "cell_type": "code",
   "execution_count": null,
   "metadata": {
    "tags": []
   },
   "outputs": [],
   "source": [
    "import pandas as pd\n",
    "import pymc3 as pm\n",
    "import numpy as np\n",
    "import seaborn as sns\n",
    "import arviz as az\n",
    "import matplotlib.pyplot as plt\n",
    "import spc_os\n",
    "from spc_vis import my_plot_ppc\n",
    "\n",
    "RANDOM_SEED = 28101990\n",
    "import pickle\n",
    "\n",
    "import theano.tensor as T\n",
    "import scipy.stats as st"
   ]
  },
  {
   "cell_type": "code",
   "execution_count": null,
   "metadata": {},
   "outputs": [],
   "source": [
    "raw_data_dir = \"../data/raw/\"\n",
    "interim_data_dir = \"../data/interim/\"\n",
    "processed_data_dir = \"../data/processed/\"\n",
    "external_data_dir = \"../data/external/\"\n",
    "models_dir = \"../models/\""
   ]
  },
  {
   "cell_type": "code",
   "execution_count": null,
   "metadata": {},
   "outputs": [],
   "source": [
    "infer = True"
   ]
  },
  {
   "cell_type": "markdown",
   "metadata": {},
   "source": [
    "+ Send to src\n",
    "+ Fix plotting with new function"
   ]
  },
  {
   "cell_type": "markdown",
   "metadata": {},
   "source": [
    "# Load data"
   ]
  },
  {
   "cell_type": "code",
   "execution_count": null,
   "metadata": {},
   "outputs": [],
   "source": [
    "df = pd.read_csv(f\"{processed_data_dir}data.csv\").drop(\"Unnamed: 0\", axis=1)"
   ]
  },
  {
   "cell_type": "code",
   "execution_count": null,
   "metadata": {},
   "outputs": [],
   "source": [
    "df.head()"
   ]
  },
  {
   "cell_type": "code",
   "execution_count": null,
   "metadata": {},
   "outputs": [],
   "source": [
    "df.Replica = df.membrane"
   ]
  },
  {
   "cell_type": "code",
   "execution_count": null,
   "metadata": {},
   "outputs": [],
   "source": [
    "df.Replica = df.Replica.astype(\"category\")"
   ]
  },
  {
   "cell_type": "code",
   "execution_count": null,
   "metadata": {},
   "outputs": [],
   "source": [
    "df[\"Replica_enc\"] = df.Replica.cat.codes"
   ]
  },
  {
   "cell_type": "code",
   "execution_count": null,
   "metadata": {},
   "outputs": [],
   "source": [
    "category_dic = {i: cat for i, cat in enumerate(np.unique(df[\"Replica\"]))}"
   ]
  },
  {
   "cell_type": "code",
   "execution_count": null,
   "metadata": {},
   "outputs": [],
   "source": [
    "category_dic"
   ]
  },
  {
   "cell_type": "code",
   "execution_count": null,
   "metadata": {},
   "outputs": [],
   "source": [
    "n_categories = len(category_dic)"
   ]
  },
  {
   "cell_type": "markdown",
   "metadata": {},
   "source": [
    "## Visualize Data"
   ]
  },
  {
   "cell_type": "code",
   "execution_count": null,
   "metadata": {},
   "outputs": [],
   "source": [
    "df[\"tpore\"].groupby(df[\"Replica\"]).describe()"
   ]
  },
  {
   "cell_type": "code",
   "execution_count": null,
   "metadata": {},
   "outputs": [],
   "source": [
    "_ = df[\"tpore\"].hist(by=df[\"Replica\"], sharex=True, bins=10)"
   ]
  },
  {
   "cell_type": "code",
   "execution_count": null,
   "metadata": {},
   "outputs": [],
   "source": [
    "_ = df[\"tpore\"].hist(bins=50)"
   ]
  },
  {
   "cell_type": "markdown",
   "metadata": {},
   "source": [
    "## Visualize Priors"
   ]
  },
  {
   "cell_type": "markdown",
   "metadata": {},
   "source": [
    "These are the shapes of the priors used."
   ]
  },
  {
   "cell_type": "code",
   "execution_count": null,
   "metadata": {},
   "outputs": [],
   "source": [
    "plt.style.use(\"seaborn-darkgrid\")\n",
    "x = np.linspace(0, 20, 200)\n",
    "alphas = [1.0, 2.0, 2.0, 3.0, 7.5]\n",
    "betas = [0.5, 0.5, 1.0, 1.0, 1.0]\n",
    "for a, b in zip(alphas, betas):\n",
    "    pdf = st.gamma.pdf(x, a, scale=1.0 / b)\n",
    "    plt.plot(x, pdf, label=r\"$\\alpha$ = {}, $\\beta$ = {}\".format(a, b))\n",
    "plt.xlabel(\"x\", fontsize=12)\n",
    "plt.ylabel(\"f(x)\", fontsize=12)\n",
    "plt.legend(loc=1)"
   ]
  },
  {
   "cell_type": "code",
   "execution_count": null,
   "metadata": {},
   "outputs": [],
   "source": [
    "beta = 5\n",
    "alpha = 5\n",
    "d = st.gamma(scale=1 / beta, a=alpha)\n",
    "x = np.linspace(0, 10, 100)\n",
    "tau_0_pdf = d.pdf(x)\n",
    "plt.plot(x, tau_0_pdf, \"k-\", lw=2)\n",
    "plt.xlabel(\"k\")"
   ]
  },
  {
   "cell_type": "code",
   "execution_count": null,
   "metadata": {},
   "outputs": [],
   "source": [
    "scale = 1.0\n",
    "loc = 3\n",
    "d = st.norm(scale=scale, loc=loc)\n",
    "x = np.linspace(0, 20, 100)\n",
    "tau_0_pdf = d.pdf(x)\n",
    "plt.plot(x, tau_0_pdf, \"k-\", lw=2)\n",
    "plt.xlabel(\"t-half\")"
   ]
  },
  {
   "cell_type": "code",
   "execution_count": null,
   "metadata": {},
   "outputs": [],
   "source": [
    "lam = 1.0\n",
    "loc = 0\n",
    "d = st.expon(scale=1 / lam, loc=0)\n",
    "x = np.linspace(0, 5, 100)\n",
    "tau_pdf = d.pdf(x)\n",
    "plt.plot(x, tau_pdf, \"k-\", lw=2)\n",
    "plt.xlabel(\"lam0\")"
   ]
  },
  {
   "cell_type": "markdown",
   "metadata": {},
   "source": [
    "## Prepare data"
   ]
  },
  {
   "cell_type": "code",
   "execution_count": null,
   "metadata": {},
   "outputs": [],
   "source": [
    "grouper = df.groupby(\"Replica\")\n",
    "data = pd.concat(\n",
    "    [pd.Series(v[\"tpore\"].tolist(), name=k) for k, v in grouper], axis=1\n",
    ").to_numpy()"
   ]
  },
  {
   "cell_type": "code",
   "execution_count": null,
   "metadata": {},
   "outputs": [],
   "source": [
    "min_vals = data.min(axis=0)"
   ]
  },
  {
   "cell_type": "code",
   "execution_count": null,
   "metadata": {},
   "outputs": [],
   "source": [
    "data = data - min_vals"
   ]
  },
  {
   "cell_type": "code",
   "execution_count": null,
   "metadata": {},
   "outputs": [],
   "source": [
    "n_bins = 10\n",
    "bin_size = (data.max(axis=0) + 0.001) / n_bins"
   ]
  },
  {
   "cell_type": "code",
   "execution_count": null,
   "metadata": {},
   "outputs": [],
   "source": [
    "porations = np.zeros([*data.shape, n_bins])"
   ]
  },
  {
   "cell_type": "code",
   "execution_count": null,
   "metadata": {
    "tags": []
   },
   "outputs": [],
   "source": [
    "for i in range(porations.shape[0]):\n",
    "    for j in range(porations.shape[1]):\n",
    "        porations[i, j, int(data[i, j] // bin_size[j])] = 1"
   ]
  },
  {
   "cell_type": "code",
   "execution_count": null,
   "metadata": {
    "tags": []
   },
   "outputs": [],
   "source": [
    "with pm.Model() as my_model:\n",
    "    lam0 = pm.Gamma(\"lam0\", alpha=0.1, beta=0.1, shape=(n_categories, n_bins))\n",
    "    mu = pm.Deterministic(\"mu\", porations * lam0)\n",
    "    like = pm.Poisson(\n",
    "        \"like\",\n",
    "        mu=mu,\n",
    "        observed=porations,\n",
    "    )"
   ]
  },
  {
   "cell_type": "code",
   "execution_count": null,
   "metadata": {},
   "outputs": [],
   "source": [
    "pm.model_to_graphviz(my_model)"
   ]
  },
  {
   "cell_type": "code",
   "execution_count": null,
   "metadata": {
    "tags": []
   },
   "outputs": [],
   "source": [
    "%%time\n",
    "if infer:\n",
    "    with my_model:\n",
    "        my_model_trace = pm.sample(1000, tune=1000, random_seed=RANDOM_SEED, return_inferencedata=True, cores=8)"
   ]
  },
  {
   "cell_type": "code",
   "execution_count": null,
   "metadata": {
    "tags": []
   },
   "outputs": [],
   "source": [
    "%%time\n",
    "if infer:\n",
    "    with my_model:\n",
    "        prior = pm.sample_prior_predictive(random_seed=RANDOM_SEED, samples=1000)\n",
    "        my_model_trace.extend(az.from_pymc3(prior=prior))"
   ]
  },
  {
   "cell_type": "code",
   "execution_count": null,
   "metadata": {
    "tags": []
   },
   "outputs": [],
   "source": [
    "%%time\n",
    "if infer:\n",
    "    with my_model:\n",
    "        ppc = pm.sample_posterior_predictive(my_model_trace,  random_seed=RANDOM_SEED, samples=1000)\n",
    "        print('Done infering.')\n",
    "    my_model_trace = az.concat(my_model_trace, az.from_pymc3(posterior_predictive=ppc))"
   ]
  },
  {
   "cell_type": "code",
   "execution_count": null,
   "metadata": {},
   "outputs": [],
   "source": [
    "my_model_trace"
   ]
  },
  {
   "cell_type": "code",
   "execution_count": null,
   "metadata": {
    "tags": []
   },
   "outputs": [],
   "source": [
    "my_model_trace = my_model_trace.assign_coords(\n",
    "    like_dim_1=df_data.columns.to_numpy(), groups=\"observed_data\"\n",
    ")\n",
    "my_model_trace = my_model_trace.assign_coords(\n",
    "    like_dim_1=df_data.columns.to_numpy(), groups=\"posterior_predictive\"\n",
    ")\n",
    "my_model_trace = my_model_trace.assign_coords(\n",
    "    like_dim_1=df_data.columns.to_numpy(), groups=\"prior_predictive\"\n",
    ")\n",
    "my_model_trace.posterior_predictive = my_model_trace.posterior_predictive.rename(\n",
    "    {\"like_dim_1\": \"Replica_enc\"}\n",
    ")\n",
    "my_model_trace.prior_predictive = my_model_trace.prior_predictive.rename(\n",
    "    {\"like_dim_1\": \"Replica_enc\"}\n",
    ")\n",
    "my_model_trace.observed_data = my_model_trace.observed_data.rename(\n",
    "    {\"like_dim_1\": \"Replica_enc\"}\n",
    ")"
   ]
  },
  {
   "cell_type": "code",
   "execution_count": null,
   "metadata": {},
   "outputs": [],
   "source": [
    "freq0, bins = np.histogram(np.where(porations[:, 0, :] == 1)[1], density=True)\n",
    "n_draws = my_model_trace.posterior_predictive.like.values.shape[1]\n",
    "l = []\n",
    "for i in range(n_draws):\n",
    "    freq, _ = np.histogram(\n",
    "        np.where(my_model_trace.posterior_predictive.like.values[0, i, :, 0, :])[1],\n",
    "        bins=bins,\n",
    "        density=True,\n",
    "    )\n",
    "    l.append(freq)\n",
    "l = np.array(l)\n",
    "plt.plot(\n",
    "    bins[:-1] + bin_size[0] / 2,\n",
    "    np.mean(l, axis=0),\n",
    ")\n",
    "plt.errorbar(bins[:-1] + bin_size[0] / 2, np.mean(l, axis=0), yerr=np.std(l, axis=0))\n",
    "_ = plt.hist(np.where(porations[:, 0, :] == 1)[1], bins=bins, density=True)"
   ]
  },
  {
   "cell_type": "code",
   "execution_count": null,
   "metadata": {},
   "outputs": [],
   "source": [
    "my_model_trace"
   ]
  },
  {
   "cell_type": "markdown",
   "metadata": {},
   "source": [
    "## Analyze"
   ]
  },
  {
   "cell_type": "markdown",
   "metadata": {},
   "source": [
    "### Point Summaries"
   ]
  },
  {
   "cell_type": "markdown",
   "metadata": {},
   "source": [
    "Check that r_hat is approx 1 and that ess_mean is near to the number of steps."
   ]
  },
  {
   "cell_type": "code",
   "execution_count": null,
   "metadata": {
    "collapsed": true,
    "jupyter": {
     "outputs_hidden": true
    },
    "tags": []
   },
   "outputs": [],
   "source": [
    "df_summary = az.summary(my_model_trace)\n",
    "with pd.option_context(\"display.max_rows\", None):\n",
    "    print(df_summary)"
   ]
  },
  {
   "cell_type": "code",
   "execution_count": null,
   "metadata": {},
   "outputs": [],
   "source": [
    "my_model_trace"
   ]
  },
  {
   "cell_type": "markdown",
   "metadata": {},
   "source": [
    "### Compare parameter"
   ]
  },
  {
   "cell_type": "code",
   "execution_count": null,
   "metadata": {},
   "outputs": [],
   "source": [
    "variable = \"lam0\"\n",
    "az.plot_forest(my_model_trace, var_names=variable, combined=True)"
   ]
  },
  {
   "cell_type": "code",
   "execution_count": null,
   "metadata": {},
   "outputs": [],
   "source": [
    "variable = \"mu\"\n",
    "az.plot_forest(my_model_trace, var_names=variable, combined=True)"
   ]
  },
  {
   "cell_type": "markdown",
   "metadata": {},
   "source": [
    "### Plot Traces (Posteriors)"
   ]
  },
  {
   "cell_type": "code",
   "execution_count": null,
   "metadata": {
    "tags": []
   },
   "outputs": [],
   "source": [
    "with az.rc_context(rc={'plot.max_subplots': None}):\n",
    "        az.plot_trace(my_model_trace)"
   ]
  },
  {
   "cell_type": "markdown",
   "metadata": {},
   "source": [
    "## Autocorrelations"
   ]
  },
  {
   "cell_type": "code",
   "execution_count": null,
   "metadata": {},
   "outputs": [],
   "source": [
    "with az.rc_context(rc={'plot.max_subplots': None}):\n",
    "    az.plot_autocorr(my_model_trace, combined=True)"
   ]
  },
  {
   "cell_type": "markdown",
   "metadata": {},
   "source": [
    "## Model?"
   ]
  },
  {
   "cell_type": "code",
   "execution_count": null,
   "metadata": {},
   "outputs": [],
   "source": [
    "model_path = models_dir + f\"tpore_double_expon_tau_tau0_same_membrane.nc\""
   ]
  },
  {
   "cell_type": "code",
   "execution_count": null,
   "metadata": {},
   "outputs": [],
   "source": [
    "spc_os.remove(model_path)\n",
    "my_model_trace.to_netcdf(model_path)"
   ]
  },
  {
   "cell_type": "code",
   "execution_count": null,
   "metadata": {},
   "outputs": [],
   "source": []
  }
 ],
 "metadata": {
  "kernelspec": {
   "display_name": "electroporation_modeling",
   "language": "python",
   "name": "electroporation_modeling"
  },
  "language_info": {
   "codemirror_mode": {
    "name": "ipython",
    "version": 3
   },
   "file_extension": ".py",
   "mimetype": "text/x-python",
   "name": "python",
   "nbconvert_exporter": "python",
   "pygments_lexer": "ipython3",
   "version": "3.9.6"
  },
  "widgets": {
   "application/vnd.jupyter.widget-state+json": {
    "state": {},
    "version_major": 2,
    "version_minor": 0
   }
  }
 },
 "nbformat": 4,
 "nbformat_minor": 4
}
