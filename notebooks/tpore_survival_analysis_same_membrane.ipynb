{
 "cells": [
  {
   "cell_type": "code",
   "execution_count": null,
   "metadata": {},
   "outputs": [],
   "source": [
    "%load_ext autoreload\n",
    "%autoreload 2\n",
    "%load_ext lab_black\n",
    "# Sometimes if too much logging\n",
    "#"
   ]
  },
  {
   "cell_type": "code",
   "execution_count": null,
   "metadata": {
    "tags": []
   },
   "outputs": [],
   "source": [
    "import pandas as pd\n",
    "import pymc3 as pm\n",
    "import numpy as np\n",
    "import seaborn as sns\n",
    "import arviz as az\n",
    "import theano.tensor as tt\n",
    "import matplotlib.pyplot as plt\n",
    "import spc_os\n",
    "from spc_vis import my_plot_ppc\n",
    "\n",
    "RANDOM_SEED = 28101990\n",
    "from pymc3 import DensityDist\n",
    "from pymc3.math import switch, exp\n",
    "from pymc3.distributions import draw_values, generate_samples\n",
    "import pickle\n",
    "\n",
    "import theano.tensor as T\n",
    "import scipy.stats as st"
   ]
  },
  {
   "cell_type": "code",
   "execution_count": null,
   "metadata": {},
   "outputs": [],
   "source": [
    "raw_data_dir = \"../data/raw/\"\n",
    "interim_data_dir = \"../data/interim/\"\n",
    "processed_data_dir = \"../data/processed/\"\n",
    "external_data_dir = \"../data/external/\"\n",
    "models_dir = \"../models/\""
   ]
  },
  {
   "cell_type": "code",
   "execution_count": null,
   "metadata": {},
   "outputs": [],
   "source": [
    "infer = True"
   ]
  },
  {
   "cell_type": "markdown",
   "metadata": {},
   "source": [
    "+ Send to src\n",
    "+ Fix plotting with new function"
   ]
  },
  {
   "cell_type": "markdown",
   "metadata": {},
   "source": [
    "# Load data"
   ]
  },
  {
   "cell_type": "code",
   "execution_count": null,
   "metadata": {},
   "outputs": [],
   "source": [
    "df = pd.read_csv(f\"{processed_data_dir}data.csv\").drop(\"Unnamed: 0\", axis=1)"
   ]
  },
  {
   "cell_type": "code",
   "execution_count": null,
   "metadata": {},
   "outputs": [],
   "source": [
    "df.head()"
   ]
  },
  {
   "cell_type": "code",
   "execution_count": null,
   "metadata": {},
   "outputs": [],
   "source": [
    "df.Replica = df.membrane"
   ]
  },
  {
   "cell_type": "code",
   "execution_count": null,
   "metadata": {},
   "outputs": [],
   "source": [
    "df.Replica = df.Replica.astype(\"category\")"
   ]
  },
  {
   "cell_type": "code",
   "execution_count": null,
   "metadata": {},
   "outputs": [],
   "source": [
    "df[\"Replica_enc\"] = df.Replica.cat.codes"
   ]
  },
  {
   "cell_type": "code",
   "execution_count": null,
   "metadata": {},
   "outputs": [],
   "source": [
    "category_dic = {i: cat for i, cat in enumerate(np.unique(df[\"Replica\"]))}"
   ]
  },
  {
   "cell_type": "code",
   "execution_count": null,
   "metadata": {},
   "outputs": [],
   "source": [
    "category_dic"
   ]
  },
  {
   "cell_type": "markdown",
   "metadata": {},
   "source": [
    "## Visualize Data"
   ]
  },
  {
   "cell_type": "code",
   "execution_count": null,
   "metadata": {},
   "outputs": [],
   "source": [
    "df[\"tpore\"].groupby(df[\"Replica\"]).describe()"
   ]
  },
  {
   "cell_type": "code",
   "execution_count": null,
   "metadata": {},
   "outputs": [],
   "source": [
    "fig, ax = plt.subplots(2, 2, figsize=(10, 10), sharex=True, sharey=True)\n",
    "x = np.linspace(0, 20, 20)\n",
    "k = 1\n",
    "x0 = 3\n",
    "lam0 = 3\n",
    "lam = lam0 / (1 + np.exp(-k * (x - x0)))\n",
    "y = np.exp(-lam * x) * lam\n",
    "y = y / np.sum(y)\n",
    "df[\"tpore\"].hist(by=df[\"Replica\"], bins=20, density=True, ax=ax)\n",
    "for a in ax.flatten():\n",
    "    a.plot(x, y)"
   ]
  },
  {
   "cell_type": "code",
   "execution_count": null,
   "metadata": {},
   "outputs": [],
   "source": [
    "_ = df[\"tpore\"].hist(by=df[\"Replica\"], sharex=True, bins=20)"
   ]
  },
  {
   "cell_type": "code",
   "execution_count": null,
   "metadata": {},
   "outputs": [],
   "source": [
    "_ = df[\"tpore\"].hist(bins=50)"
   ]
  },
  {
   "cell_type": "markdown",
   "metadata": {},
   "source": [
    "## Visualize Priors"
   ]
  },
  {
   "cell_type": "markdown",
   "metadata": {},
   "source": [
    "These are the shapes of the priors used."
   ]
  },
  {
   "cell_type": "code",
   "execution_count": null,
   "metadata": {},
   "outputs": [],
   "source": [
    "plt.style.use(\"seaborn-darkgrid\")\n",
    "x = np.linspace(0, 20, 200)\n",
    "alphas = [1.0, 2.0, 2.0, 3.0, 7.5]\n",
    "betas = [0.5, 0.5, 1.0, 1.0, 1.0]\n",
    "for a, b in zip(alphas, betas):\n",
    "    pdf = st.gamma.pdf(x, a, scale=1.0 / b)\n",
    "    plt.plot(x, pdf, label=r\"$\\alpha$ = {}, $\\beta$ = {}\".format(a, b))\n",
    "plt.xlabel(\"x\", fontsize=12)\n",
    "plt.ylabel(\"f(x)\", fontsize=12)\n",
    "plt.legend(loc=1)"
   ]
  },
  {
   "cell_type": "code",
   "execution_count": null,
   "metadata": {},
   "outputs": [],
   "source": [
    "beta = 5\n",
    "alpha = 5\n",
    "d = st.gamma(scale=1 / beta, a=alpha)\n",
    "x = np.linspace(0, 10, 100)\n",
    "tau_0_pdf = d.pdf(x)\n",
    "plt.plot(x, tau_0_pdf, \"k-\", lw=2)\n",
    "plt.xlabel(\"k\")"
   ]
  },
  {
   "cell_type": "code",
   "execution_count": null,
   "metadata": {},
   "outputs": [],
   "source": [
    "scale = 1.0\n",
    "loc = 3\n",
    "d = st.norm(scale=scale, loc=loc)\n",
    "x = np.linspace(0, 20, 100)\n",
    "tau_0_pdf = d.pdf(x)\n",
    "plt.plot(x, tau_0_pdf, \"k-\", lw=2)\n",
    "plt.xlabel(\"t-half\")"
   ]
  },
  {
   "cell_type": "code",
   "execution_count": null,
   "metadata": {},
   "outputs": [],
   "source": [
    "lam = 1.0\n",
    "loc = 0\n",
    "d = st.expon(scale=1 / lam, loc=0)\n",
    "x = np.linspace(0, 5, 100)\n",
    "tau_pdf = d.pdf(x)\n",
    "plt.plot(x, tau_pdf, \"k-\", lw=2)\n",
    "plt.xlabel(\"lam0\")"
   ]
  },
  {
   "cell_type": "markdown",
   "metadata": {},
   "source": [
    "## Run model"
   ]
  },
  {
   "cell_type": "code",
   "execution_count": null,
   "metadata": {},
   "outputs": [],
   "source": [
    "grouper = df.groupby(\"Replica\")\n",
    "df_data = pd.concat(\n",
    "    [pd.Series(v[\"tpore\"].tolist(), name=k) for k, v in grouper], axis=1\n",
    ")"
   ]
  },
  {
   "cell_type": "code",
   "execution_count": null,
   "metadata": {},
   "outputs": [],
   "source": [
    "df_data -= df_data.min()"
   ]
  },
  {
   "cell_type": "code",
   "execution_count": null,
   "metadata": {
    "tags": []
   },
   "outputs": [],
   "source": [
    "coords = {\"Replica\": df_data.columns, \"sim_number\": df_data.index}\n",
    "df_data.index.name = \"sim_number\"\n",
    "df_data.columns.name = \"Replica\"\n",
    "with pm.Model(coords=coords) as my_model:\n",
    "    k = pm.Gamma(\"k\", alpha=5.0, beta=5.0, dims=(\"Replica\"))\n",
    "    t_half = pm.TruncatedNormal(\"t_half\", mu=6.0, sigma=0.1, lower=0, dims=(\"Replica\"))\n",
    "    lam0 = pm.Exponential(\"lam0\", lam=1, dims=(\"Replica\"))\n",
    "    lam = pm.Deterministic(\n",
    "        # \"lam\", T.outer(lam0, 1 / (1 + T.exp(T.outer(k , (df_data.to_numpy() - t_half)))))\n",
    "        \"lam\",\n",
    "        lam0 / (1 + T.exp(-k * (df_data.to_numpy() - t_half))),\n",
    "    )\n",
    "    data = pm.Data(\"data\", df_data, dims=(\"sim_number\", \"Replica\"))\n",
    "    like = pm.Exponential(\n",
    "        \"like\",\n",
    "        lam=lam,\n",
    "        observed=data,\n",
    "    )"
   ]
  },
  {
   "cell_type": "code",
   "execution_count": null,
   "metadata": {},
   "outputs": [],
   "source": [
    "pm.model_to_graphviz(my_model)"
   ]
  },
  {
   "cell_type": "code",
   "execution_count": null,
   "metadata": {
    "tags": []
   },
   "outputs": [],
   "source": [
    "%%time\n",
    "if infer:\n",
    "    with my_model:\n",
    "        my_model_trace = pm.sample(1000, tune=1000, random_seed=RANDOM_SEED, return_inferencedata=True, cores=8)"
   ]
  },
  {
   "cell_type": "code",
   "execution_count": null,
   "metadata": {
    "tags": []
   },
   "outputs": [],
   "source": [
    "%%time\n",
    "if infer:\n",
    "    with my_model:\n",
    "        prior = pm.sample_prior_predictive(random_seed=RANDOM_SEED, samples=100)\n",
    "        my_model_trace.extend(az.from_pymc3(prior=prior))"
   ]
  },
  {
   "cell_type": "code",
   "execution_count": null,
   "metadata": {
    "tags": []
   },
   "outputs": [],
   "source": [
    "%%time\n",
    "if infer:\n",
    "    with my_model:\n",
    "        ppc = pm.sample_posterior_predictive(my_model_trace,  random_seed=RANDOM_SEED, samples=100)\n",
    "        print('Done infering.')\n",
    "    my_model_trace = az.concat(my_model_trace, az.from_pymc3(posterior_predictive=ppc))"
   ]
  },
  {
   "cell_type": "code",
   "execution_count": null,
   "metadata": {
    "tags": []
   },
   "outputs": [],
   "source": [
    "my_model_trace = my_model_trace.assign_coords(\n",
    "    like_dim_1=df_data.columns.to_numpy(), groups=\"observed_data\"\n",
    ")\n",
    "my_model_trace = my_model_trace.assign_coords(\n",
    "    like_dim_1=df_data.columns.to_numpy(), groups=\"posterior_predictive\"\n",
    ")\n",
    "my_model_trace = my_model_trace.assign_coords(\n",
    "    like_dim_1=df_data.columns.to_numpy(), groups=\"prior_predictive\"\n",
    ")\n",
    "my_model_trace.posterior_predictive = my_model_trace.posterior_predictive.rename(\n",
    "    {\"like_dim_1\": \"Replica_enc\"}\n",
    ")\n",
    "my_model_trace.prior_predictive = my_model_trace.prior_predictive.rename(\n",
    "    {\"like_dim_1\": \"Replica_enc\"}\n",
    ")\n",
    "my_model_trace.observed_data = my_model_trace.observed_data.rename(\n",
    "    {\"like_dim_1\": \"Replica_enc\"}\n",
    ")"
   ]
  },
  {
   "cell_type": "code",
   "execution_count": null,
   "metadata": {},
   "outputs": [],
   "source": [
    "my_model_trace"
   ]
  },
  {
   "cell_type": "markdown",
   "metadata": {},
   "source": [
    "## Analyze"
   ]
  },
  {
   "cell_type": "markdown",
   "metadata": {},
   "source": [
    "### Point Summaries"
   ]
  },
  {
   "cell_type": "markdown",
   "metadata": {},
   "source": [
    "Check that r_hat is approx 1 and that ess_mean is near to the number of steps."
   ]
  },
  {
   "cell_type": "code",
   "execution_count": null,
   "metadata": {
    "tags": []
   },
   "outputs": [],
   "source": [
    "df_summary = az.summary(my_model_trace)\n",
    "with pd.option_context(\"display.max_rows\", None):\n",
    "    print(df_summary)"
   ]
  },
  {
   "cell_type": "code",
   "execution_count": null,
   "metadata": {},
   "outputs": [],
   "source": [
    "my_model_trace"
   ]
  },
  {
   "cell_type": "code",
   "execution_count": null,
   "metadata": {},
   "outputs": [],
   "source": [
    "my_model_trace.constant_data.data[:, 0]"
   ]
  },
  {
   "cell_type": "code",
   "execution_count": null,
   "metadata": {},
   "outputs": [],
   "source": [
    "plt.plot(\n",
    "    my_model_trace.constant_data.data[:, 0].values,\n",
    "    my_model_trace.posterior.lam.mean(axis=(0, 1))[:, 0].values,\n",
    "    ls=\"\",\n",
    "    marker=\"o\",\n",
    ")"
   ]
  },
  {
   "cell_type": "code",
   "execution_count": null,
   "metadata": {},
   "outputs": [],
   "source": [
    "plt.plot(\n",
    "    my_model_trace.constant_data.data[:, 0].values,\n",
    "    my_model_trace.prior.lam.mean(axis=(0, 1))[:, 0].values,\n",
    "    ls=\"\",\n",
    "    marker=\"o\",\n",
    ")"
   ]
  },
  {
   "cell_type": "code",
   "execution_count": null,
   "metadata": {},
   "outputs": [],
   "source": [
    "plt.hist(my_model_trace.prior.t_half.values.flatten())"
   ]
  },
  {
   "cell_type": "code",
   "execution_count": null,
   "metadata": {},
   "outputs": [],
   "source": [
    "plt.hist(my_model_trace.prior.k.values.flatten())"
   ]
  },
  {
   "cell_type": "code",
   "execution_count": null,
   "metadata": {},
   "outputs": [],
   "source": [
    "plt.hist(my_model_trace.prior.lam0.values.flatten())"
   ]
  },
  {
   "cell_type": "code",
   "execution_count": null,
   "metadata": {},
   "outputs": [],
   "source": [
    "plt.hist(my_model_trace.prior.t_half.values.flatten())"
   ]
  },
  {
   "cell_type": "code",
   "execution_count": null,
   "metadata": {},
   "outputs": [],
   "source": [
    "plt.hist(my_model_trace.posterior.t_half.values.flatten())"
   ]
  },
  {
   "cell_type": "code",
   "execution_count": null,
   "metadata": {},
   "outputs": [],
   "source": [
    "plt.hist(my_model_trace.posterior.k.values.flatten())"
   ]
  },
  {
   "cell_type": "markdown",
   "metadata": {},
   "source": [
    "### Prior Predictive Test"
   ]
  },
  {
   "cell_type": "code",
   "execution_count": null,
   "metadata": {
    "tags": []
   },
   "outputs": [],
   "source": [
    "ax = az.plot_ppc(my_model_trace, group=\"prior\", flatten=[\"draw\", \"chain\", \"like_dim_0\"])\n",
    "for a in ax:\n",
    "    a.set_xlim([0, 15])"
   ]
  },
  {
   "cell_type": "code",
   "execution_count": null,
   "metadata": {
    "tags": []
   },
   "outputs": [],
   "source": [
    "ax = az.plot_ppc(\n",
    "    my_model_trace,\n",
    "    group=\"prior\",\n",
    "    flatten=[\"draw\", \"chain\", \"like_dim_0\"],\n",
    "    kind=\"cumulative\",\n",
    ")\n",
    "for a in ax:\n",
    "    a.set_xlim([0, 15])"
   ]
  },
  {
   "cell_type": "markdown",
   "metadata": {},
   "source": [
    "### Posterior Predictive Test"
   ]
  },
  {
   "cell_type": "code",
   "execution_count": null,
   "metadata": {
    "tags": []
   },
   "outputs": [],
   "source": [
    "ax = az.plot_ppc(\n",
    "    my_model_trace, group=\"posterior\", flatten=[\"draw\", \"chain\", \"like_dim_0\"]\n",
    ")\n",
    "for a in ax:\n",
    "    a.set_xlim([0, 15])"
   ]
  },
  {
   "cell_type": "code",
   "execution_count": null,
   "metadata": {
    "tags": []
   },
   "outputs": [],
   "source": [
    "ax = az.plot_ppc(\n",
    "    my_model_trace,\n",
    "    group=\"posterior\",\n",
    "    flatten=[\"draw\", \"chain\", \"like_dim_0\"],\n",
    "    kind=\"cumulative\",\n",
    ")\n",
    "for a in ax:\n",
    "    a.set_xlim([0, 15])"
   ]
  },
  {
   "cell_type": "markdown",
   "metadata": {},
   "source": [
    "### Compare parameter"
   ]
  },
  {
   "cell_type": "code",
   "execution_count": null,
   "metadata": {},
   "outputs": [],
   "source": [
    "variable = \"lam0\"\n",
    "az.plot_forest(my_model_trace, var_names=variable, combined=True)"
   ]
  },
  {
   "cell_type": "code",
   "execution_count": null,
   "metadata": {},
   "outputs": [],
   "source": [
    "variable = \"k\"\n",
    "az.plot_forest(my_model_trace, var_names=variable, combined=True)"
   ]
  },
  {
   "cell_type": "code",
   "execution_count": null,
   "metadata": {},
   "outputs": [],
   "source": [
    "variable = \"t_half\"\n",
    "az.plot_forest(my_model_trace, var_names=variable, combined=True)"
   ]
  },
  {
   "cell_type": "markdown",
   "metadata": {},
   "source": [
    "### Plot Traces (Posteriors)"
   ]
  },
  {
   "cell_type": "code",
   "execution_count": null,
   "metadata": {
    "tags": []
   },
   "outputs": [],
   "source": [
    "with az.rc_context(rc={'plot.max_subplots': None}):\n",
    "        az.plot_trace(my_model_trace)"
   ]
  },
  {
   "cell_type": "markdown",
   "metadata": {},
   "source": [
    "## Autocorrelations"
   ]
  },
  {
   "cell_type": "code",
   "execution_count": null,
   "metadata": {},
   "outputs": [],
   "source": [
    "with az.rc_context(rc={'plot.max_subplots': None}):\n",
    "    az.plot_autocorr(my_model_trace, combined=True)"
   ]
  },
  {
   "cell_type": "markdown",
   "metadata": {},
   "source": [
    "## Model?"
   ]
  },
  {
   "cell_type": "code",
   "execution_count": null,
   "metadata": {},
   "outputs": [],
   "source": [
    "model_path = models_dir + f\"tpore_double_expon_tau_tau0_same_membrane.nc\""
   ]
  },
  {
   "cell_type": "code",
   "execution_count": null,
   "metadata": {},
   "outputs": [],
   "source": [
    "spc_os.remove(model_path)\n",
    "my_model_trace.to_netcdf(model_path)"
   ]
  },
  {
   "cell_type": "code",
   "execution_count": null,
   "metadata": {},
   "outputs": [],
   "source": []
  }
 ],
 "metadata": {
  "kernelspec": {
   "display_name": "electroporation_modeling",
   "language": "python",
   "name": "electroporation_modeling"
  },
  "language_info": {
   "codemirror_mode": {
    "name": "ipython",
    "version": 3
   },
   "file_extension": ".py",
   "mimetype": "text/x-python",
   "name": "python",
   "nbconvert_exporter": "python",
   "pygments_lexer": "ipython3",
   "version": "3.9.6"
  },
  "widgets": {
   "application/vnd.jupyter.widget-state+json": {
    "state": {},
    "version_major": 2,
    "version_minor": 0
   }
  }
 },
 "nbformat": 4,
 "nbformat_minor": 4
}
