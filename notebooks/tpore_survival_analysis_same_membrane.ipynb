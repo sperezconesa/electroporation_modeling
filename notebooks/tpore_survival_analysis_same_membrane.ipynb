{
 "cells": [
  {
   "cell_type": "code",
   "execution_count": null,
   "metadata": {
    "tags": []
   },
   "outputs": [],
   "source": [
    "import pandas as pd\n",
    "import pymc3 as pm\n",
    "import numpy as np\n",
    "import seaborn as sns\n",
    "import arviz as az\n",
    "import matplotlib.pyplot as plt\n",
    "import spc_os\n",
    "from spc_vis import my_plot_ppc\n",
    "\n",
    "RANDOM_SEED = 28101990\n",
    "import pickle\n",
    "\n",
    "from math import ceil\n",
    "import theano.tensor as T\n",
    "import scipy.stats as st"
   ]
  },
  {
   "cell_type": "code",
   "execution_count": null,
   "metadata": {},
   "outputs": [],
   "source": [
    "%load_ext autoreload\n",
    "%autoreload 2\n",
    "%load_ext lab_black\n",
    "%load_ext watermark\n",
    "%watermark -n -u -v -iv -w -m"
   ]
  },
  {
   "cell_type": "code",
   "execution_count": null,
   "metadata": {},
   "outputs": [],
   "source": [
    "raw_data_dir = \"../data/raw/\"\n",
    "interim_data_dir = \"../data/interim/\"\n",
    "processed_data_dir = \"../data/processed/\"\n",
    "external_data_dir = \"../data/external/\"\n",
    "models_dir = \"../models/\""
   ]
  },
  {
   "cell_type": "code",
   "execution_count": null,
   "metadata": {},
   "outputs": [],
   "source": [
    "model_path = models_dir + f\"tpore_survival_analysis_same_membrane.nc\""
   ]
  },
  {
   "cell_type": "code",
   "execution_count": null,
   "metadata": {},
   "outputs": [],
   "source": [
    "infer = False"
   ]
  },
  {
   "cell_type": "markdown",
   "metadata": {},
   "source": [
    "# Load data"
   ]
  },
  {
   "cell_type": "code",
   "execution_count": null,
   "metadata": {},
   "outputs": [],
   "source": [
    "df = pd.read_csv(f\"{processed_data_dir}data.csv\").drop(\"Unnamed: 0\", axis=1)"
   ]
  },
  {
   "cell_type": "code",
   "execution_count": null,
   "metadata": {},
   "outputs": [],
   "source": [
    "df.Replica = df.membrane"
   ]
  },
  {
   "cell_type": "code",
   "execution_count": null,
   "metadata": {},
   "outputs": [],
   "source": [
    "df.Replica = df.Replica.astype(\"category\")"
   ]
  },
  {
   "cell_type": "code",
   "execution_count": null,
   "metadata": {},
   "outputs": [],
   "source": [
    "df[\"Replica_enc\"] = df.Replica.cat.codes"
   ]
  },
  {
   "cell_type": "code",
   "execution_count": null,
   "metadata": {},
   "outputs": [],
   "source": [
    "category_dic = {i: cat for i, cat in enumerate(np.unique(df[\"Replica\"]))}"
   ]
  },
  {
   "cell_type": "code",
   "execution_count": null,
   "metadata": {},
   "outputs": [],
   "source": [
    "category_dic"
   ]
  },
  {
   "cell_type": "code",
   "execution_count": null,
   "metadata": {},
   "outputs": [],
   "source": [
    "n_categories = len(category_dic)"
   ]
  },
  {
   "cell_type": "code",
   "execution_count": null,
   "metadata": {},
   "outputs": [],
   "source": [
    "dummies = pd.get_dummies(df.Replica, prefix=\"Replica\")"
   ]
  },
  {
   "cell_type": "code",
   "execution_count": null,
   "metadata": {},
   "outputs": [],
   "source": [
    "for col in dummies.columns:\n",
    "    df[col] = dummies[col]"
   ]
  },
  {
   "cell_type": "code",
   "execution_count": null,
   "metadata": {},
   "outputs": [],
   "source": [
    "df.tpore = df.tpore * 10\n",
    "df.tpore = df.tpore.astype(int)"
   ]
  },
  {
   "cell_type": "code",
   "execution_count": null,
   "metadata": {},
   "outputs": [],
   "source": [
    "df.head()"
   ]
  },
  {
   "cell_type": "markdown",
   "metadata": {},
   "source": [
    "## Visualize Data"
   ]
  },
  {
   "cell_type": "code",
   "execution_count": null,
   "metadata": {},
   "outputs": [],
   "source": [
    "df[\"tpore\"].groupby(df[\"Replica\"]).describe()"
   ]
  },
  {
   "cell_type": "code",
   "execution_count": null,
   "metadata": {},
   "outputs": [],
   "source": [
    "_ = df[\"tpore\"].hist(by=df[\"Replica\"], sharex=True, density=True, bins=10)"
   ]
  },
  {
   "cell_type": "code",
   "execution_count": null,
   "metadata": {},
   "outputs": [],
   "source": [
    "_ = df[\"tpore\"].hist(bins=50)"
   ]
  },
  {
   "cell_type": "markdown",
   "metadata": {},
   "source": [
    "## Visualize Priors"
   ]
  },
  {
   "cell_type": "markdown",
   "metadata": {},
   "source": [
    "These are the shapes of the priors used."
   ]
  },
  {
   "cell_type": "code",
   "execution_count": null,
   "metadata": {},
   "outputs": [],
   "source": [
    "beta = 1\n",
    "alpha = 1\n",
    "d = st.gamma(scale=1 / beta, a=alpha)\n",
    "x = np.linspace(0, 10, 100)\n",
    "tau_0_pdf = d.pdf(x)\n",
    "plt.plot(x, tau_0_pdf, \"k-\", lw=2)\n",
    "plt.xlabel(\"lambda0(t)\")"
   ]
  },
  {
   "cell_type": "markdown",
   "metadata": {},
   "source": [
    "## Prepare data"
   ]
  },
  {
   "cell_type": "code",
   "execution_count": null,
   "metadata": {},
   "outputs": [],
   "source": [
    "n_sims = df.shape[0]\n",
    "sims = np.arange(n_sims)\n",
    "interval_length = 20  # 2 ns\n",
    "interval_bounds = np.arange(0, df.tpore.max() + interval_length + 1, interval_length)\n",
    "n_intervals = interval_bounds.size - 1\n",
    "intervals = np.arange(n_intervals)"
   ]
  },
  {
   "cell_type": "code",
   "execution_count": null,
   "metadata": {},
   "outputs": [],
   "source": [
    "last_period = np.floor((df.tpore - 0.01) / interval_length).astype(int)\n",
    "\n",
    "pore = np.zeros((n_sims, n_intervals))\n",
    "pore[sims, last_period] = np.ones(n_sims)"
   ]
  },
  {
   "cell_type": "code",
   "execution_count": null,
   "metadata": {},
   "outputs": [],
   "source": [
    "exposure = (\n",
    "    np.greater_equal.outer(df.tpore.values, interval_bounds[:-1]) * interval_length\n",
    ")\n",
    "exposure[sims, last_period] = df.tpore - interval_bounds[last_period]"
   ]
  },
  {
   "cell_type": "markdown",
   "metadata": {},
   "source": [
    "## Run Model"
   ]
  },
  {
   "cell_type": "code",
   "execution_count": null,
   "metadata": {},
   "outputs": [],
   "source": [
    "with pm.Model() as model:\n",
    "\n",
    "    lambda0 = pm.Gamma(\"lambda0\", 1, 1, shape=n_intervals)\n",
    "\n",
    "    beta = pm.Normal(\"beta\", 0, sigma=10, shape=(n_categories))\n",
    "\n",
    "    lambda_ = pm.Deterministic(\n",
    "        \"lambda_\", T.outer(T.exp(T.dot(beta, dummies.T)), lambda0)\n",
    "    )\n",
    "    mu = pm.Deterministic(\"mu\", exposure * lambda_)\n",
    "    exp_beta = pm.Deterministic(\"exp_beta\", np.exp(beta))\n",
    "\n",
    "    obs = pm.Poisson(\n",
    "        \"obs\",\n",
    "        mu,\n",
    "        observed=pore,\n",
    "    )"
   ]
  },
  {
   "cell_type": "code",
   "execution_count": null,
   "metadata": {},
   "outputs": [],
   "source": [
    "pm.model_to_graphviz(model)"
   ]
  },
  {
   "cell_type": "code",
   "execution_count": null,
   "metadata": {
    "tags": []
   },
   "outputs": [],
   "source": [
    "%%time\n",
    "if infer:\n",
    "    with model:\n",
    "        trace = pm.sample(1000, tune=1000, random_seed=RANDOM_SEED, return_inferencedata=True, cores=8)\n",
    "else:\n",
    "     trace=az.from_netcdf(model_path)"
   ]
  },
  {
   "cell_type": "markdown",
   "metadata": {},
   "source": [
    "## Posterior and prior predictive and "
   ]
  },
  {
   "cell_type": "code",
   "execution_count": null,
   "metadata": {
    "tags": []
   },
   "outputs": [],
   "source": [
    "%%time\n",
    "if infer:\n",
    "    with model:\n",
    "        ppc = pm.sample_posterior_predictive(trace,  random_seed=RANDOM_SEED, samples=1000)\n",
    "        print('Done infering.')\n",
    "    trace = az.concat(trace, az.from_pymc3(posterior_predictive=ppc))"
   ]
  },
  {
   "cell_type": "code",
   "execution_count": null,
   "metadata": {
    "tags": []
   },
   "outputs": [],
   "source": [
    "%%time\n",
    "if infer:\n",
    "    with model:\n",
    "        prior = pm.sample_prior_predictive(random_seed=RANDOM_SEED, samples=1000)\n",
    "        trace.extend(az.from_pymc3(prior=prior))"
   ]
  },
  {
   "cell_type": "markdown",
   "metadata": {},
   "source": [
    "## Convergences"
   ]
  },
  {
   "cell_type": "code",
   "execution_count": null,
   "metadata": {
    "tags": []
   },
   "outputs": [],
   "source": [
    "with az.rc_context(rc={\"plot.max_subplots\": None}):\n",
    "    az.plot_trace(trace, var_names=[\"beta\", \"lambda0\"])"
   ]
  },
  {
   "cell_type": "code",
   "execution_count": null,
   "metadata": {},
   "outputs": [],
   "source": [
    "with az.rc_context(rc={\"plot.max_subplots\": None}):\n",
    "    az.plot_autocorr(trace, combined=True, var_names=[\"lambda0\", \"beta\"])"
   ]
  },
  {
   "cell_type": "code",
   "execution_count": null,
   "metadata": {},
   "outputs": [],
   "source": [
    "def get_hdi(x, axis, alpha=0.06):\n",
    "    x_mean = np.nanmean(x, axis=axis)\n",
    "    percentiles = 100 * np.array([alpha / 2.0, 1.0 - alpha / 2.0])\n",
    "    hdi = np.nanpercentile(x, percentiles, axis=axis)\n",
    "\n",
    "    return x_mean, hdi"
   ]
  },
  {
   "cell_type": "code",
   "execution_count": null,
   "metadata": {
    "tags": []
   },
   "outputs": [],
   "source": [
    "fig, ax = plt.subplots(1, 1, figsize=(6, 4))\n",
    "freq0, bins = np.histogram(\n",
    "    np.where(pore[:, :] == 1)[1], density=True, bins=np.arange(n_intervals)\n",
    ")\n",
    "n_draws = trace.posterior_predictive.obs.values.shape[1]\n",
    "l = []\n",
    "for draw in range(n_draws):\n",
    "    freq, _ = np.histogram(\n",
    "        np.where(trace.posterior_predictive.obs.values[0, draw, :, :])[1],\n",
    "        bins=bins,\n",
    "        density=True,\n",
    "    )\n",
    "    l.append(freq)\n",
    "l = np.array(l)\n",
    "y, hdi = get_hdi(l, 0)\n",
    "ax.errorbar(\n",
    "    bins[:-1] * interval_length,\n",
    "    y / interval_length,\n",
    "    yerr=hdi / interval_length,\n",
    "    label=\"posterior predictive\",\n",
    "    lw=2,\n",
    "    capsize=6,\n",
    ")\n",
    "ax.bar(\n",
    "    bins[:-1] * interval_length,\n",
    "    freq0 / interval_length,\n",
    "    color=\"C1\",\n",
    "    width=interval_length,\n",
    "    label=\"observed binned\",\n",
    ")\n",
    "sns.kdeplot(\n",
    "    df.tpore,\n",
    "    ax=ax,\n",
    "    # common_norm=True,\n",
    "    # bw_adjust=0.3,\n",
    "    color=\"grey\",\n",
    "    label=\"data\",\n",
    "    lw=2.5\n",
    "    # gridsize=10,\n",
    ")\n",
    "ax.set_xlabel(\"t-pore (ns) * 10\")\n",
    "ax.set_ylabel(\"p(t-pore)\")\n",
    "ax.legend()\n",
    "fig.tight_layout()"
   ]
  },
  {
   "cell_type": "code",
   "execution_count": null,
   "metadata": {
    "tags": []
   },
   "outputs": [],
   "source": [
    "fig, ax = plt.subplots(1, 1, figsize=(6, 4))\n",
    "freq0, bins = np.histogram(\n",
    "    np.where(pore[:, :] == 1)[1], density=True, bins=np.arange(n_intervals)\n",
    ")\n",
    "n_draws = trace.prior_predictive.obs.values.shape[1]\n",
    "l = []\n",
    "for draw in range(n_draws):\n",
    "    freq, _ = np.histogram(\n",
    "        np.where(trace.prior_predictive.obs.values[0, draw, :, :])[1],\n",
    "        bins=bins,\n",
    "        density=True,\n",
    "    )\n",
    "    l.append(freq)\n",
    "l = np.array(l)\n",
    "ax.errorbar(\n",
    "    bins[:-1] * interval_length,\n",
    "    y / interval_length,\n",
    "    yerr=hdi / interval_length,\n",
    "    label=\"prior predictive\",\n",
    "    lw=2,\n",
    "    capsize=6,\n",
    ")\n",
    "ax.bar(\n",
    "    bins[:-1] * interval_length,\n",
    "    freq0 / interval_length,\n",
    "    color=\"C1\",\n",
    "    width=interval_length,\n",
    "    label=\"observed binned\",\n",
    ")\n",
    "sns.kdeplot(\n",
    "    df.tpore,\n",
    "    ax=ax,\n",
    "    # common_norm=True,\n",
    "    # bw_adjust=0.3,\n",
    "    color=\"grey\",\n",
    "    label=\"data\",\n",
    "    lw=2.5\n",
    "    # gridsize=10,\n",
    ")\n",
    "ax.set_xlabel(\"t-pore (ns) * 10\")\n",
    "ax.set_ylabel(\"p(t-pore)\")\n",
    "ax.legend()\n",
    "fig.tight_layout()"
   ]
  },
  {
   "cell_type": "markdown",
   "metadata": {},
   "source": [
    "## Analyze"
   ]
  },
  {
   "cell_type": "markdown",
   "metadata": {},
   "source": [
    "### Plot posterior"
   ]
  },
  {
   "cell_type": "code",
   "execution_count": null,
   "metadata": {},
   "outputs": [],
   "source": [
    "variable = \"lambda0\"\n",
    "az.plot_forest(trace, var_names=variable, combined=True)"
   ]
  },
  {
   "cell_type": "code",
   "execution_count": null,
   "metadata": {},
   "outputs": [],
   "source": [
    "variable = \"beta\"\n",
    "az.plot_forest(trace, var_names=variable, combined=True)"
   ]
  },
  {
   "cell_type": "code",
   "execution_count": null,
   "metadata": {},
   "outputs": [],
   "source": [
    "variable = \"exp_beta\"\n",
    "az.plot_forest(trace, var_names=variable, combined=True)"
   ]
  },
  {
   "cell_type": "code",
   "execution_count": null,
   "metadata": {},
   "outputs": [],
   "source": [
    "trace.posterior.lambda0.mean(dim=[\"draw\", \"chain\"])"
   ]
  },
  {
   "cell_type": "code",
   "execution_count": null,
   "metadata": {},
   "outputs": [],
   "source": [
    "trace.posterior.lambda0.values.shape"
   ]
  },
  {
   "cell_type": "code",
   "execution_count": null,
   "metadata": {},
   "outputs": [],
   "source": [
    "trace.posterior.beta.values.shape"
   ]
  },
  {
   "cell_type": "code",
   "execution_count": null,
   "metadata": {},
   "outputs": [],
   "source": [
    "(trace.posterior.beta.values[:, :, [0]] * trace.posterior.lambda0.values).shape"
   ]
  },
  {
   "cell_type": "code",
   "execution_count": null,
   "metadata": {},
   "outputs": [],
   "source": [
    "fig, ax = plt.subplots(1, 2, figsize=(20, 7))\n",
    "lambda0 = trace.posterior.lambda0.values\n",
    "beta = trace.posterior.beta.values\n",
    "y, hdi = get_hdi(lambda0, (0, 1))\n",
    "x = interval_bounds[:-1]\n",
    "ax[0].fill_between(x, hdi[0], hdi[1], alpha=0.25, step=\"pre\")\n",
    "ax[0].step(x, y, label=\"baseline\")\n",
    "for i in range(n_categories):\n",
    "    lam = np.exp(beta[:, :, [i]]) * lambda0\n",
    "    y, hdi = get_hdi(lam, (0, 1))\n",
    "    ax[1].fill_between(x, hdi[0], hdi[1], alpha=0.25, step=\"pre\")\n",
    "    ax[1].step(x, y, label=f\"{category_dic[i]}\")\n",
    "\n",
    "for a in ax:\n",
    "    a.legend(loc=\"best\")\n",
    "    a.set_ylabel(\"p(lambda0)\")\n",
    "    a.set_xlabel(\"lambda (ns*10)^-1\")"
   ]
  },
  {
   "cell_type": "markdown",
   "metadata": {},
   "source": [
    "To DO\n",
    "+ modify parameters using copies of notebooks: nbins, priors\n",
    "+ more categories\n",
    "+ t-dependent B"
   ]
  },
  {
   "cell_type": "markdown",
   "metadata": {},
   "source": [
    "## Model?"
   ]
  },
  {
   "cell_type": "code",
   "execution_count": null,
   "metadata": {},
   "outputs": [],
   "source": [
    "print(model_path)"
   ]
  },
  {
   "cell_type": "code",
   "execution_count": null,
   "metadata": {},
   "outputs": [],
   "source": [
    "spc_os.remove(model_path)\n",
    "trace.to_netcdf(model_path)"
   ]
  },
  {
   "cell_type": "code",
   "execution_count": null,
   "metadata": {},
   "outputs": [],
   "source": []
  }
 ],
 "metadata": {
  "kernelspec": {
   "display_name": "electroporation_modeling",
   "language": "python",
   "name": "electroporation_modeling"
  },
  "language_info": {
   "codemirror_mode": {
    "name": "ipython",
    "version": 3
   },
   "file_extension": ".py",
   "mimetype": "text/x-python",
   "name": "python",
   "nbconvert_exporter": "python",
   "pygments_lexer": "ipython3",
   "version": "3.9.6"
  },
  "widgets": {
   "application/vnd.jupyter.widget-state+json": {
    "state": {},
    "version_major": 2,
    "version_minor": 0
   }
  }
 },
 "nbformat": 4,
 "nbformat_minor": 4
}
