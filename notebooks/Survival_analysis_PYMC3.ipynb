{
 "cells": [
  {
   "cell_type": "code",
   "execution_count": null,
   "id": "c79723ec-ea29-40f7-a661-75258f2ed54f",
   "metadata": {
    "tags": []
   },
   "outputs": [],
   "source": [
    "%matplotlib inline\n",
    "import numpy as np\n",
    "import pandas as pd\n",
    "import pymc3 as pm\n",
    "import seaborn as sns\n",
    "import arviz as az\n",
    "\n",
    "from matplotlib import pyplot as plt\n",
    "from pymc3.distributions.timeseries import GaussianRandomWalk\n",
    "from theano import tensor as T"
   ]
  },
  {
   "cell_type": "code",
   "execution_count": null,
   "id": "6c36c5fc-c9d0-414e-8a4b-c11d85b4992d",
   "metadata": {},
   "outputs": [],
   "source": [
    "df = pd.read_csv(pm.get_data(\"mastectomy.csv\"))\n",
    "df.event = df.event.astype(np.int64)\n",
    "df = df.rename(columns={\"metastasized\":\"metastized\"})\n",
    "df.metastized = (df.metastized == \"yes\").astype(np.int64)\n",
    "n_patients = df.shape[0]\n",
    "patients = np.arange(n_patients)"
   ]
  },
  {
   "cell_type": "code",
   "execution_count": null,
   "id": "293d363b-091f-4c68-9916-bf94bfc437ce",
   "metadata": {},
   "outputs": [],
   "source": [
    "n_patients"
   ]
  },
  {
   "cell_type": "code",
   "execution_count": null,
   "id": "de830a56-7797-44bb-b1ce-19b97939fbd6",
   "metadata": {},
   "outputs": [],
   "source": [
    "df.event.mean()\n"
   ]
  },
  {
   "cell_type": "code",
   "execution_count": null,
   "id": "29f884c5-658d-4abd-9a10-12c83684788a",
   "metadata": {},
   "outputs": [],
   "source": [
    "df.head()"
   ]
  },
  {
   "cell_type": "code",
   "execution_count": null,
   "id": "fe3c44d7-bf8d-4742-ac23-859f0631fa3e",
   "metadata": {},
   "outputs": [],
   "source": [
    "fig, ax = plt.subplots(figsize=(8, 6))\n",
    "\n",
    "blue, _, red = sns.color_palette()[:3]\n",
    "\n",
    "ax.hlines(\n",
    "    patients[df.event.values == 0], 0, df[df.event.values == 0].time, color=blue, label=\"Censored\"\n",
    ")\n",
    "\n",
    "ax.hlines(\n",
    "    patients[df.event.values == 1], 0, df[df.event.values == 1].time, color=red, label=\"Uncensored\"\n",
    ")\n",
    "\n",
    "ax.scatter(\n",
    "    df[df.metastized.values == 1].time,\n",
    "    patients[df.metastized.values == 1],\n",
    "    color=\"k\",\n",
    "    zorder=10,\n",
    "    label=\"Metastized\",\n",
    ")\n",
    "\n",
    "ax.set_xlim(left=0)\n",
    "ax.set_xlabel(\"Months since mastectomy\")\n",
    "ax.set_yticks([])\n",
    "ax.set_ylabel(\"Subject\")\n",
    "\n",
    "ax.set_ylim(-0.25, n_patients + 0.25)\n",
    "\n",
    "ax.legend(loc=\"center right\");"
   ]
  },
  {
   "cell_type": "code",
   "execution_count": null,
   "id": "7be674d8-976d-42b8-b463-d354057654b0",
   "metadata": {},
   "outputs": [],
   "source": [
    "interval_length = 3\n",
    "interval_bounds = np.arange(0, df.time.max() + interval_length + 1, interval_length)\n",
    "n_intervals = interval_bounds.size - 1\n",
    "intervals = np.arange(n_intervals)"
   ]
  },
  {
   "cell_type": "code",
   "execution_count": null,
   "id": "696637f3-2dfe-4f13-a7c3-c7aabce376bf",
   "metadata": {},
   "outputs": [],
   "source": [
    "fig, ax = plt.subplots(figsize=(8, 6))\n",
    "\n",
    "ax.hist(\n",
    "    df[df.event == 1].time.values,\n",
    "    bins=interval_bounds,\n",
    "    color=red,\n",
    "    alpha=0.5,\n",
    "    lw=0,\n",
    "    label=\"Uncensored\",\n",
    ")\n",
    "ax.hist(\n",
    "    df[df.event == 0].time.values,\n",
    "    bins=interval_bounds,\n",
    "    color=blue,\n",
    "    alpha=0.5,\n",
    "    lw=0,\n",
    "    label=\"Censored\",\n",
    ")\n",
    "\n",
    "ax.set_xlim(0, interval_bounds[-1])\n",
    "ax.set_xlabel(\"Months since mastectomy\")\n",
    "\n",
    "ax.set_yticks([0, 1, 2, 3])\n",
    "ax.set_ylabel(\"Number of observations\")\n",
    "\n",
    "ax.legend();"
   ]
  },
  {
   "cell_type": "code",
   "execution_count": null,
   "id": "4a103517-63ad-4216-9c27-c752243121ff",
   "metadata": {},
   "outputs": [],
   "source": [
    "last_period = np.floor((df.time - 0.01) / interval_length).astype(int)\n",
    "\n",
    "death = np.zeros((n_patients, n_intervals))\n",
    "death[patients, last_period] = df.event"
   ]
  },
  {
   "cell_type": "code",
   "execution_count": null,
   "id": "53fef706-582e-41cd-b73f-30e2e935ddc4",
   "metadata": {},
   "outputs": [],
   "source": [
    "exposure = np.greater_equal.outer(df.time.values, interval_bounds[:-1]) * interval_length\n",
    "exposure[patients, last_period] = df.time - interval_bounds[last_period]"
   ]
  },
  {
   "cell_type": "code",
   "execution_count": null,
   "id": "1f91d0e5-0b87-4e27-91dc-9324be1f3c71",
   "metadata": {},
   "outputs": [],
   "source": [
    "SEED = 644567  # from random.org"
   ]
  },
  {
   "cell_type": "code",
   "execution_count": null,
   "id": "e1d93542-67ab-4f04-a7dd-b48f2ebdfa1c",
   "metadata": {},
   "outputs": [],
   "source": [
    "n_intervals"
   ]
  },
  {
   "cell_type": "code",
   "execution_count": null,
   "id": "c9aa7f9b-8f25-4059-bf5b-db293e9b80db",
   "metadata": {},
   "outputs": [],
   "source": [
    "with pm.Model() as model:\n",
    "\n",
    "    lambda0 = pm.Gamma(\"lambda0\", 0.01, 0.01, shape=n_intervals)\n",
    "\n",
    "    beta = pm.Normal(\"beta\", 0, sigma=1000)\n",
    "\n",
    "    lambda_ = pm.Deterministic(\"lambda_\", T.outer(T.exp(beta * df.metastized), lambda0))\n",
    "    mu = pm.Deterministic(\"mu\", exposure * lambda_)\n",
    "\n",
    "    obs = pm.Poisson(\"obs\", mu, observed=death, )"
   ]
  },
  {
   "cell_type": "code",
   "execution_count": null,
   "id": "0a37f9a9-4316-464f-9a68-3f3baf2d4b33",
   "metadata": {},
   "outputs": [],
   "source": [
    "n_samples = 1000\n",
    "n_tune = 1000"
   ]
  },
  {
   "cell_type": "code",
   "execution_count": null,
   "id": "121a7223-d4ea-4be1-85c4-902ffe279311",
   "metadata": {},
   "outputs": [],
   "source": [
    "with model:\n",
    "    trace = pm.sample(n_samples, tune=n_tune, random_seed=SEED, return_inferencedata=True)"
   ]
  },
  {
   "cell_type": "code",
   "execution_count": null,
   "id": "4bfe2da9-e9b2-46e8-a6f2-c5c36c220f61",
   "metadata": {
    "tags": []
   },
   "outputs": [],
   "source": [
    "%%time\n",
    "with model:\n",
    "    ppc = pm.sample_posterior_predictive(trace,  random_seed=SEED, samples=1000)\n",
    "    print('Done infering.')\n",
    "trace = az.concat(trace, az.from_pymc3(posterior_predictive=ppc))"
   ]
  },
  {
   "cell_type": "code",
   "execution_count": null,
   "id": "51f6b933-fae4-4f3f-969b-6e1d5b0ff086",
   "metadata": {},
   "outputs": [],
   "source": [
    "freq0, bins = np.histogram(np.where(death ==1)[1])\n",
    "l = []\n",
    "for i in range(100):\n",
    "    freq, _ = np.histogram(np.where(trace.posterior_predictive.obs.values[0,i,:,:])[1], bins=bins)\n",
    "    l.append(freq)\n",
    "l = np.array(l)\n",
    "plt.plot(bins[:-1] + 5.9/2, np.mean(l, axis=0),)\n",
    "plt.errorbar(bins[:-1] + 5.9/2, np.mean(l, axis=0),yerr=np.std(l, axis=0))\n",
    "plt.hist(np.where(death ==1)[1], bins=bins)"
   ]
  },
  {
   "cell_type": "code",
   "execution_count": null,
   "id": "16c99874-c4e5-43f3-9aaa-5200cc2e7c66",
   "metadata": {},
   "outputs": [],
   "source": [
    "base_hazard = trace.posterior[\"lambda0\"].values\n",
    "exp = np.exp(np.atleast_2d(trace.posterior[\"beta\"].values))\n",
    "exp = exp.reshape(exp.shape+(1,))\n",
    "met_hazard = base_hazard * exp"
   ]
  },
  {
   "cell_type": "code",
   "execution_count": null,
   "id": "2c96b470-3d5d-463a-9921-aaf2132d3fa4",
   "metadata": {},
   "outputs": [],
   "source": [
    "def cum_hazard(hazard):\n",
    "    print(\"called cum\", hazard.shape)\n",
    "    return (interval_length * hazard).cumsum(axis=-1)\n",
    "\n",
    "\n",
    "def survival(hazard):\n",
    "    return np.exp(-cum_hazard(hazard))"
   ]
  },
  {
   "cell_type": "code",
   "execution_count": null,
   "id": "e48d2cb2-85b9-48bc-a7d4-c8fa9fb9e404",
   "metadata": {},
   "outputs": [],
   "source": [
    "def plot_with_hpd(x, hazard, f, ax, color=None, label=None, alpha=0.05):\n",
    "    mean = hazard.mean(axis=(0,1))\n",
    "    mean = f(mean)\n",
    "\n",
    "    percentiles = 100 * np.array([alpha / 2.0, 1.0 - alpha / 2.0])\n",
    "    hpd = np.percentile(f(hazard), percentiles, axis=(0,1))\n",
    "\n",
    "\n",
    "    ax.fill_between(x, hpd[0], hpd[1], color=color, alpha=0.25)\n",
    "    ax.step(x, mean, color=color, label=label);"
   ]
  },
  {
   "cell_type": "code",
   "execution_count": null,
   "id": "8f6d6292-94a7-4bc0-9daf-e025eb8ef1d6",
   "metadata": {},
   "outputs": [],
   "source": [
    "fig, (hazard_ax, surv_ax) = plt.subplots(ncols=2, sharex=True, sharey=False, figsize=(16, 6))\n",
    "plot_with_hpd(\n",
    "    x=interval_bounds[:-1], hazard=base_hazard, f=cum_hazard, ax=hazard_ax, color=blue, label=\"Had not metastized\"\n",
    ")\n",
    "plot_with_hpd(\n",
    "    interval_bounds[:-1], met_hazard, cum_hazard, hazard_ax, color=red, label=\"Metastized\"\n",
    ")\n",
    "\n",
    "hazard_ax.set_xlim(0, df.time.max())\n",
    "hazard_ax.set_xlabel(\"Months since mastectomy\")\n",
    "\n",
    "hazard_ax.set_ylabel(r\"Cumulative hazard $\\Lambda(t)$\")\n",
    "\n",
    "hazard_ax.legend(loc=2)\n",
    "\n",
    "plot_with_hpd(interval_bounds[:-1], base_hazard, survival, surv_ax, color=blue)\n",
    "plot_with_hpd(interval_bounds[:-1], met_hazard, survival, surv_ax, color=red)\n",
    "\n",
    "surv_ax.set_xlim(0, df.time.max())\n",
    "surv_ax.set_xlabel(\"Months since mastectomy\")\n",
    "\n",
    "surv_ax.set_ylabel(\"Survival function $S(t)$\")\n",
    "\n",
    "fig.suptitle(\"Bayesian survival model\");"
   ]
  },
  {
   "cell_type": "code",
   "execution_count": null,
   "id": "c4acfec0-e7df-48a9-934f-8a1e49235015",
   "metadata": {},
   "outputs": [],
   "source": []
  }
 ],
 "metadata": {
  "kernelspec": {
   "display_name": "electroporation_modeling",
   "language": "python",
   "name": "electroporation_modeling"
  },
  "language_info": {
   "codemirror_mode": {
    "name": "ipython",
    "version": 3
   },
   "file_extension": ".py",
   "mimetype": "text/x-python",
   "name": "python",
   "nbconvert_exporter": "python",
   "pygments_lexer": "ipython3",
   "version": "3.9.6"
  },
  "widgets": {
   "application/vnd.jupyter.widget-state+json": {
    "state": {},
    "version_major": 2,
    "version_minor": 0
   }
  }
 },
 "nbformat": 4,
 "nbformat_minor": 5
}
