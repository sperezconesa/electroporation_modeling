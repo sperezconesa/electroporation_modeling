{
 "cells": [
  {
   "cell_type": "code",
   "execution_count": null,
   "id": "c79723ec-ea29-40f7-a661-75258f2ed54f",
   "metadata": {},
   "outputs": [],
   "source": [
    "%matplotlib inline\n",
    "import numpy as np\n",
    "import pandas as pd\n",
    "import pymc3 as pm\n",
    "import seaborn as sns\n",
    "\n",
    "from matplotlib import pyplot as plt\n",
    "from pymc3.distributions.timeseries import GaussianRandomWalk\n",
    "from theano import tensor as T"
   ]
  },
  {
   "cell_type": "code",
   "execution_count": null,
   "id": "6c36c5fc-c9d0-414e-8a4b-c11d85b4992d",
   "metadata": {},
   "outputs": [],
   "source": [
    "df = pd.read_csv(pm.get_data(\"mastectomy.csv\"))\n",
    "df.event = df.event.astype(np.int64)\n",
    "df = df.rename(columns={\"metastasized\":\"metastized\"})\n",
    "df.metastized = (df.metastized == \"yes\").astype(np.int64)\n",
    "n_patients = df.shape[0]\n",
    "patients = np.arange(n_patients)"
   ]
  },
  {
   "cell_type": "code",
   "execution_count": null,
   "id": "293d363b-091f-4c68-9916-bf94bfc437ce",
   "metadata": {},
   "outputs": [],
   "source": [
    "n_patients"
   ]
  },
  {
   "cell_type": "code",
   "execution_count": null,
   "id": "de830a56-7797-44bb-b1ce-19b97939fbd6",
   "metadata": {},
   "outputs": [],
   "source": [
    "df.event.mean()\n"
   ]
  },
  {
   "cell_type": "code",
   "execution_count": null,
   "id": "29f884c5-658d-4abd-9a10-12c83684788a",
   "metadata": {},
   "outputs": [],
   "source": [
    "df.head()"
   ]
  },
  {
   "cell_type": "code",
   "execution_count": null,
   "id": "fe3c44d7-bf8d-4742-ac23-859f0631fa3e",
   "metadata": {},
   "outputs": [],
   "source": [
    "fig, ax = plt.subplots(figsize=(8, 6))\n",
    "\n",
    "blue, _, red = sns.color_palette()[:3]\n",
    "\n",
    "ax.hlines(\n",
    "    patients[df.event.values == 0], 0, df[df.event.values == 0].time, color=blue, label=\"Censored\"\n",
    ")\n",
    "\n",
    "ax.hlines(\n",
    "    patients[df.event.values == 1], 0, df[df.event.values == 1].time, color=red, label=\"Uncensored\"\n",
    ")\n",
    "\n",
    "ax.scatter(\n",
    "    df[df.metastized.values == 1].time,\n",
    "    patients[df.metastized.values == 1],\n",
    "    color=\"k\",\n",
    "    zorder=10,\n",
    "    label=\"Metastized\",\n",
    ")\n",
    "\n",
    "ax.set_xlim(left=0)\n",
    "ax.set_xlabel(\"Months since mastectomy\")\n",
    "ax.set_yticks([])\n",
    "ax.set_ylabel(\"Subject\")\n",
    "\n",
    "ax.set_ylim(-0.25, n_patients + 0.25)\n",
    "\n",
    "ax.legend(loc=\"center right\");"
   ]
  },
  {
   "cell_type": "code",
   "execution_count": null,
   "id": "7be674d8-976d-42b8-b463-d354057654b0",
   "metadata": {},
   "outputs": [],
   "source": [
    "interval_length = 3\n",
    "interval_bounds = np.arange(0, df.time.max() + interval_length + 1, interval_length)\n",
    "n_intervals = interval_bounds.size - 1\n",
    "intervals = np.arange(n_intervals)"
   ]
  },
  {
   "cell_type": "code",
   "execution_count": null,
   "id": "696637f3-2dfe-4f13-a7c3-c7aabce376bf",
   "metadata": {},
   "outputs": [],
   "source": [
    "fig, ax = plt.subplots(figsize=(8, 6))\n",
    "\n",
    "ax.hist(\n",
    "    df[df.event == 1].time.values,\n",
    "    bins=interval_bounds,\n",
    "    color=red,\n",
    "    alpha=0.5,\n",
    "    lw=0,\n",
    "    label=\"Uncensored\",\n",
    ")\n",
    "ax.hist(\n",
    "    df[df.event == 0].time.values,\n",
    "    bins=interval_bounds,\n",
    "    color=blue,\n",
    "    alpha=0.5,\n",
    "    lw=0,\n",
    "    label=\"Censored\",\n",
    ")\n",
    "\n",
    "ax.set_xlim(0, interval_bounds[-1])\n",
    "ax.set_xlabel(\"Months since mastectomy\")\n",
    "\n",
    "ax.set_yticks([0, 1, 2, 3])\n",
    "ax.set_ylabel(\"Number of observations\")\n",
    "\n",
    "ax.legend();"
   ]
  },
  {
   "cell_type": "code",
   "execution_count": null,
   "id": "4a103517-63ad-4216-9c27-c752243121ff",
   "metadata": {},
   "outputs": [],
   "source": [
    "last_period = np.floor((df.time - 0.01) / interval_length).astype(int)\n",
    "\n",
    "death = np.zeros((n_patients, n_intervals))\n",
    "death[patients, last_period] = df.event"
   ]
  },
  {
   "cell_type": "code",
   "execution_count": null,
   "id": "53fef706-582e-41cd-b73f-30e2e935ddc4",
   "metadata": {},
   "outputs": [],
   "source": [
    "exposure = np.greater_equal.outer(df.time.values, interval_bounds[:-1]) * interval_length\n",
    "exposure[patients, last_period] = df.time - interval_bounds[last_period]"
   ]
  },
  {
   "cell_type": "code",
   "execution_count": null,
   "id": "1f91d0e5-0b87-4e27-91dc-9324be1f3c71",
   "metadata": {},
   "outputs": [],
   "source": [
    "SEED = 644567  # from random.org\n"
   ]
  },
  {
   "cell_type": "code",
   "execution_count": null,
   "id": "c9aa7f9b-8f25-4059-bf5b-db293e9b80db",
   "metadata": {},
   "outputs": [],
   "source": [
    "with pm.Model() as model:\n",
    "\n",
    "    lambda0 = pm.Gamma(\"lambda0\", 0.01, 0.01, shape=n_intervals)\n",
    "\n",
    "    beta = pm.Normal(\"beta\", 0, sigma=1000)\n",
    "\n",
    "    lambda_ = pm.Deterministic(\"lambda_\", T.outer(T.exp(beta * df.metastized), lambda0))\n",
    "    mu = pm.Deterministic(\"mu\", exposure * lambda_)\n",
    "\n",
    "    obs = pm.Poisson(\"obs\", mu, observed=death, )"
   ]
  },
  {
   "cell_type": "code",
   "execution_count": null,
   "id": "0a37f9a9-4316-464f-9a68-3f3baf2d4b33",
   "metadata": {},
   "outputs": [],
   "source": [
    "n_samples = 1000\n",
    "n_tune = 1000"
   ]
  },
  {
   "cell_type": "code",
   "execution_count": null,
   "id": "121a7223-d4ea-4be1-85c4-902ffe279311",
   "metadata": {},
   "outputs": [],
   "source": [
    "with model:\n",
    "    trace = pm.sample(n_samples, tune=n_tune, random_seed=SEED, return_inferencedata=True)"
   ]
  },
  {
   "cell_type": "code",
   "execution_count": null,
   "id": "5a1df566-4ec3-4a30-9a4f-056b2331650a",
   "metadata": {},
   "outputs": [],
   "source": [
    "trace"
   ]
  },
  {
   "cell_type": "code",
   "execution_count": null,
   "id": "1e3f269e-2ae4-40cf-ad23-29c701e29bba",
   "metadata": {},
   "outputs": [],
   "source": []
  }
 ],
 "metadata": {
  "kernelspec": {
   "display_name": "electroporation_modeling",
   "language": "python",
   "name": "electroporation_modeling"
  },
  "language_info": {
   "codemirror_mode": {
    "name": "ipython",
    "version": 3
   },
   "file_extension": ".py",
   "mimetype": "text/x-python",
   "name": "python",
   "nbconvert_exporter": "python",
   "pygments_lexer": "ipython3",
   "version": "3.9.6"
  },
  "widgets": {
   "application/vnd.jupyter.widget-state+json": {
    "state": {},
    "version_major": 2,
    "version_minor": 0
   }
  }
 },
 "nbformat": 4,
 "nbformat_minor": 5
}
