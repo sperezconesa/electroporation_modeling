{
 "cells": [
  {
   "cell_type": "code",
   "execution_count": null,
   "metadata": {
    "tags": []
   },
   "outputs": [],
   "source": [
    "import pandas as pd\n",
    "import pymc3 as pm\n",
    "import numpy as np\n",
    "import seaborn as sns\n",
    "import arviz as az\n",
    "import theano.tensor as tt\n",
    "import matplotlib.pyplot as plt\n",
    "import spc_os\n",
    "from spc_vis import my_plot_ppc\n",
    "\n",
    "RANDOM_SEED = 28101990\n",
    "from pymc3 import DensityDist\n",
    "from pymc3.math import switch, exp\n",
    "from pymc3.distributions import draw_values, generate_samples\n",
    "import pickle\n",
    "\n",
    "import theano.tensor as T\n",
    "import scipy.stats as st"
   ]
  },
  {
   "cell_type": "code",
   "execution_count": null,
   "metadata": {},
   "outputs": [],
   "source": [
    "raw_data_dir = \"../data/raw/\"\n",
    "interim_data_dir = \"../data/interim/\"\n",
    "processed_data_dir = \"../data/processed/\"\n",
    "external_data_dir = \"../data/external/\"\n",
    "models_dir = \"../models/\""
   ]
  },
  {
   "cell_type": "code",
   "execution_count": null,
   "metadata": {},
   "outputs": [],
   "source": [
    "infer = True"
   ]
  },
  {
   "cell_type": "markdown",
   "metadata": {},
   "source": [
    "+ Send to src\n",
    "+ Fix plotting with new function"
   ]
  },
  {
   "cell_type": "markdown",
   "metadata": {},
   "source": [
    "# Load data"
   ]
  },
  {
   "cell_type": "code",
   "execution_count": null,
   "metadata": {},
   "outputs": [],
   "source": [
    "df = pd.read_csv(f\"{processed_data_dir}data.csv\").drop(\"Unnamed: 0\", axis=1)"
   ]
  },
  {
   "cell_type": "code",
   "execution_count": null,
   "metadata": {},
   "outputs": [],
   "source": [
    "df.head()"
   ]
  },
  {
   "cell_type": "code",
   "execution_count": null,
   "metadata": {},
   "outputs": [],
   "source": [
    "df.Replica = df.membrane"
   ]
  },
  {
   "cell_type": "code",
   "execution_count": null,
   "metadata": {},
   "outputs": [],
   "source": [
    "df.Replica = df.Replica.astype(\"category\")"
   ]
  },
  {
   "cell_type": "code",
   "execution_count": null,
   "metadata": {},
   "outputs": [],
   "source": [
    "df[\"Replica_enc\"] = df.Replica.cat.codes"
   ]
  },
  {
   "cell_type": "code",
   "execution_count": null,
   "metadata": {},
   "outputs": [],
   "source": [
    "category_dic = {\n",
    "    i:cat for i,cat in enumerate(np.unique(df['Replica']))\n",
    "}"
   ]
  },
  {
   "cell_type": "code",
   "execution_count": null,
   "metadata": {},
   "outputs": [],
   "source": [
    "category_dic"
   ]
  },
  {
   "cell_type": "markdown",
   "metadata": {},
   "source": [
    "# Custom Likelyhood"
   ]
  },
  {
   "cell_type": "code",
   "execution_count": null,
   "metadata": {},
   "outputs": [],
   "source": [
    "class my_pdf(st.rv_continuous):\n",
    "    \n",
    "    def _cdf(self,t,tau_0, lam, c):\n",
    "        return exp_lag_cdf_vec(t, tau_0, lam,  c)\n",
    "my_cv = my_pdf(a=0, name='my_pdf')"
   ]
  },
  {
   "cell_type": "code",
   "execution_count": null,
   "metadata": {},
   "outputs": [],
   "source": [
    "def logp_exp_lag(tau_0, lam, c):\n",
    "    def logp_(t):\n",
    "        #return T.log(T.switch(T.lt(t, tau_0), np.finfo(np.float64).tiny,T.exp( - (t - tau_0) / tau)/ tau ))\n",
    "        f = c * T.exp( - (t ) * lam ) * lam \n",
    "        g = T.switch(T.lt(t, tau_0), 1.e-8 , (1 - c) * T.exp( - (t - tau_0) * lam) * lam )\n",
    "        return T.log(f + g)\n",
    "    return  logp_"
   ]
  },
  {
   "cell_type": "code",
   "execution_count": null,
   "metadata": {},
   "outputs": [],
   "source": [
    "def exp_lag_cdf(t, tau_0, lam, c):\n",
    "    cdf0 = c * (1-np.exp(-(t)*lam))\n",
    "    if t >= tau_0:\n",
    "        cdf1 = (1 - c) * (1-np.exp(-(t-tau_0) * lam))\n",
    "    else:\n",
    "        cdf1=1.e-8\n",
    "    return cdf0+cdf1"
   ]
  },
  {
   "cell_type": "code",
   "execution_count": null,
   "metadata": {},
   "outputs": [],
   "source": [
    "exp_lag_cdf_vec = np.vectorize(exp_lag_cdf)"
   ]
  },
  {
   "cell_type": "code",
   "execution_count": null,
   "metadata": {},
   "outputs": [],
   "source": [
    "def random(point=None, size=None):\n",
    "    # draw a numerical value for the parameters\n",
    "    size = 1 if size is None else size\n",
    "    tau_0_, lam_,  c_ = draw_values([tau_0, lam, c], point=point,size=size)\n",
    "    \n",
    " \n",
    "    return generate_samples(my_cv.rvs, lam=lam_, tau_0=tau_0_, c=c_, size=size)"
   ]
  },
  {
   "cell_type": "markdown",
   "metadata": {},
   "source": [
    "Generate some data to compare to the theoretical PDF"
   ]
  },
  {
   "cell_type": "code",
   "execution_count": null,
   "metadata": {},
   "outputs": [],
   "source": [
    "d = DensityDist.dist(logp_exp_lag).logp(lam=2.5,tau_0=1.5, c=0.25)"
   ]
  },
  {
   "cell_type": "code",
   "execution_count": null,
   "metadata": {},
   "outputs": [],
   "source": [
    "l = []\n",
    "for i in range(1000):\n",
    "    l.append(my_cv.rvs(tau_0=2.5,lam=1.5,c=0.25 ))"
   ]
  },
  {
   "cell_type": "code",
   "execution_count": null,
   "metadata": {},
   "outputs": [],
   "source": [
    "plt.plot(np.linspace(0,20,100),np.exp(d(np.linspace(0,20,100)).eval()))\n",
    "_ = plt.hist(np.array(l), density=True)"
   ]
  },
  {
   "cell_type": "markdown",
   "metadata": {},
   "source": [
    "## Visualize Data"
   ]
  },
  {
   "cell_type": "code",
   "execution_count": null,
   "metadata": {},
   "outputs": [],
   "source": [
    "df['tpore'].groupby(df['Replica']).describe()"
   ]
  },
  {
   "cell_type": "code",
   "execution_count": null,
   "metadata": {},
   "outputs": [],
   "source": [
    "_ = df['tpore'].hist(by=df['Replica'],sharex=True, bins=20)"
   ]
  },
  {
   "cell_type": "code",
   "execution_count": null,
   "metadata": {},
   "outputs": [],
   "source": [
    "_ = df['tpore'].hist(bins=50)"
   ]
  },
  {
   "cell_type": "markdown",
   "metadata": {},
   "source": [
    "## Visualize Priors"
   ]
  },
  {
   "cell_type": "markdown",
   "metadata": {},
   "source": [
    "These are the shapes of the priors used."
   ]
  },
  {
   "cell_type": "code",
   "execution_count": null,
   "metadata": {},
   "outputs": [],
   "source": [
    "scale = 0.25 \n",
    "loc = 0.0\n",
    "d = st.norm(scale=scale, loc=loc)\n",
    "x = np.linspace(0,1,100)\n",
    "tau_0_pdf = d.pdf(x)\n",
    "plt.plot(x,  tau_0_pdf, 'k-', lw=2)"
   ]
  },
  {
   "cell_type": "code",
   "execution_count": null,
   "metadata": {},
   "outputs": [],
   "source": [
    "scale = 0.75\n",
    "loc = 2.5\n",
    "d = st.norm(scale=scale, loc=loc)\n",
    "x = np.linspace(0,20,100)\n",
    "tau_0_pdf = d.pdf(x)\n",
    "plt.plot(x,  tau_0_pdf, 'k-', lw=2)"
   ]
  },
  {
   "cell_type": "code",
   "execution_count": null,
   "metadata": {},
   "outputs": [],
   "source": [
    "lam = 0.5 \n",
    "loc = 0\n",
    "d = st.expon(scale=1/lam, loc=0)\n",
    "x = np.linspace(0,100,100)\n",
    "tau_pdf = d.pdf(x)\n",
    "plt.plot(x,  tau_pdf, 'k-', lw=2)"
   ]
  },
  {
   "cell_type": "markdown",
   "metadata": {},
   "source": [
    "## Run model"
   ]
  },
  {
   "cell_type": "code",
   "execution_count": null,
   "metadata": {},
   "outputs": [],
   "source": [
    "grouper = df.groupby('Replica')\n",
    "df_data = pd.concat([pd.Series(v['tpore'].tolist(), name=k) for k, v in grouper], axis=1)"
   ]
  },
  {
   "cell_type": "code",
   "execution_count": null,
   "metadata": {},
   "outputs": [],
   "source": [
    "min_val = df_data.min()"
   ]
  },
  {
   "cell_type": "code",
   "execution_count": null,
   "metadata": {},
   "outputs": [],
   "source": [
    "df_data = df_data - min_val "
   ]
  },
  {
   "cell_type": "code",
   "execution_count": null,
   "metadata": {},
   "outputs": [],
   "source": [
    "maxes = []\n",
    "for col in df_data:\n",
    "    y, x = np.histogram(df_data[col])\n",
    "    maxes.append(x[y.argmax()])\n",
    "maxes = np.array(maxes)"
   ]
  },
  {
   "cell_type": "code",
   "execution_count": null,
   "metadata": {},
   "outputs": [],
   "source": [
    "ax=df_data.hist(density=True, bins=15)\n",
    "ax=ax.flatten()\n",
    "for a, m in zip(ax,maxes):\n",
    "    a.hist(np.array(l), density=True)\n",
    "    a.axvline(m, color=\"green\")\n",
    "    a.axvline(m-0.75*2, color=\"green\")\n",
    "    a.axvline(m+0.75*2, color=\"green\")"
   ]
  },
  {
   "cell_type": "code",
   "execution_count": null,
   "metadata": {
    "tags": []
   },
   "outputs": [],
   "source": [
    "coords ={ \"Replica\":df_data.columns, \"sim_number\":df_data.index}\n",
    "df_data.index.name = \"sim_number\"\n",
    "df_data.columns.name = \"Replica\"\n",
    "with pm.Model(coords=coords) as my_model:\n",
    "    lam = pm.Exponential('lam', lam=0.05, dims=\"Replica\")\n",
    "    tau_0 = pm.TruncatedNormal('tau_0', mu=maxes, sigma=0.75, lower=0, dims=\"Replica\")\n",
    "    c = pm.TruncatedNormal('c', mu=0., sigma=0.25, lower=0, upper=1, dims=\"Replica\")\n",
    "    tau = pm.Deterministic(\"tau\", 1/lam)\n",
    "    tau_0_c = pm.Deterministic(\"tau_0_c\", tau_0+min_val)\n",
    "    like = DensityDist('like', logp_exp_lag(tau_0,lam, c), observed=df_data, random=random)"
   ]
  },
  {
   "cell_type": "code",
   "execution_count": null,
   "metadata": {},
   "outputs": [],
   "source": [
    "pm.model_to_graphviz(my_model)"
   ]
  },
  {
   "cell_type": "code",
   "execution_count": null,
   "metadata": {
    "tags": []
   },
   "outputs": [],
   "source": [
    "%%time\n",
    "if infer:\n",
    "    with my_model:\n",
    "        my_model_trace = pm.sample(4000, tune=4000, random_seed=RANDOM_SEED, return_inferencedata=True, cores=4)"
   ]
  },
  {
   "cell_type": "code",
   "execution_count": null,
   "metadata": {
    "tags": []
   },
   "outputs": [],
   "source": [
    "%%time\n",
    "if infer:\n",
    "    with my_model:\n",
    "        prior = pm.sample_prior_predictive(random_seed=RANDOM_SEED, samples=100)\n",
    "        my_model_trace.extend(az.from_pymc3(prior=prior))"
   ]
  },
  {
   "cell_type": "code",
   "execution_count": null,
   "metadata": {
    "tags": []
   },
   "outputs": [],
   "source": [
    "%%time\n",
    "if infer:\n",
    "    with my_model:\n",
    "        ppc = pm.sample_posterior_predictive(my_model_trace,  random_seed=RANDOM_SEED, samples=100)\n",
    "        print('Done infering.')\n",
    "    my_model_trace = az.concat(my_model_trace, az.from_pymc3(posterior_predictive=ppc))"
   ]
  },
  {
   "cell_type": "code",
   "execution_count": null,
   "metadata": {
    "tags": []
   },
   "outputs": [],
   "source": [
    "my_model_trace = my_model_trace.assign_coords(like_dim_1=df_data.columns.to_numpy(),\n",
    "                                              groups='observed_data')\n",
    "my_model_trace = my_model_trace.assign_coords(like_dim_1=df_data.columns.to_numpy(),\n",
    "                                              groups='posterior_predictive')\n",
    "my_model_trace = my_model_trace.assign_coords(like_dim_1=df_data.columns.to_numpy(),\n",
    "                                              groups='prior_predictive')\n",
    "my_model_trace.posterior_predictive = my_model_trace.posterior_predictive.rename({'like_dim_1':'Replica_enc'})\n",
    "my_model_trace.prior_predictive = my_model_trace.prior_predictive.rename({'like_dim_1':'Replica_enc'})\n",
    "my_model_trace.observed_data = my_model_trace.observed_data.rename({'like_dim_1':'Replica_enc'})"
   ]
  },
  {
   "cell_type": "markdown",
   "metadata": {},
   "source": [
    "## Analyze"
   ]
  },
  {
   "cell_type": "markdown",
   "metadata": {},
   "source": [
    "### Point Summaries"
   ]
  },
  {
   "cell_type": "markdown",
   "metadata": {},
   "source": [
    "Check that r_hat is approx 1 and that ess_mean is near to the number of steps."
   ]
  },
  {
   "cell_type": "code",
   "execution_count": null,
   "metadata": {},
   "outputs": [],
   "source": [
    "df_summary = az.summary(my_model_trace)\n",
    "with pd.option_context('display.max_rows', None):\n",
    "    print(df_summary)"
   ]
  },
  {
   "cell_type": "markdown",
   "metadata": {},
   "source": [
    "### Prior Predictive Test"
   ]
  },
  {
   "cell_type": "code",
   "execution_count": null,
   "metadata": {
    "tags": []
   },
   "outputs": [],
   "source": [
    "ax = az.plot_ppc(my_model_trace,group=\"prior\",flatten=['draw', 'chain', 'like_dim_0'])\n",
    "for a in ax:\n",
    "    a.set_xlim([0,15])"
   ]
  },
  {
   "cell_type": "code",
   "execution_count": null,
   "metadata": {
    "tags": []
   },
   "outputs": [],
   "source": [
    "ax = az.plot_ppc(my_model_trace,group=\"prior\",flatten=['draw', 'chain', 'like_dim_0'], kind=\"cumulative\")\n",
    "for a in ax:\n",
    "    a.set_xlim([0,15])"
   ]
  },
  {
   "cell_type": "markdown",
   "metadata": {},
   "source": [
    "### Posterior Predictive Test"
   ]
  },
  {
   "cell_type": "code",
   "execution_count": null,
   "metadata": {
    "tags": []
   },
   "outputs": [],
   "source": [
    "az.plot_ppc(my_model_trace,group=\"posterior\",flatten=['draw', 'chain', 'like_dim_0'])"
   ]
  },
  {
   "cell_type": "code",
   "execution_count": null,
   "metadata": {
    "tags": []
   },
   "outputs": [],
   "source": [
    "az.plot_ppc(my_model_trace,group=\"posterior\",flatten=['draw', 'chain', 'like_dim_0'], kind=\"cumulative\")"
   ]
  },
  {
   "cell_type": "markdown",
   "metadata": {},
   "source": [
    "### Plot Traces (Posteriors)"
   ]
  },
  {
   "cell_type": "code",
   "execution_count": null,
   "metadata": {
    "tags": []
   },
   "outputs": [],
   "source": [
    "with az.rc_context(rc={'plot.max_subplots': None}):\n",
    "        az.plot_trace(my_model_trace)"
   ]
  },
  {
   "cell_type": "markdown",
   "metadata": {},
   "source": [
    "### Compare parameter"
   ]
  },
  {
   "cell_type": "code",
   "execution_count": null,
   "metadata": {},
   "outputs": [],
   "source": [
    "variable = 'tau_0'\n",
    "az.plot_forest(my_model_trace,\n",
    "               var_names=variable,\n",
    "               combined=True)"
   ]
  },
  {
   "cell_type": "code",
   "execution_count": null,
   "metadata": {},
   "outputs": [],
   "source": [
    "variable = 'tau_0_c'\n",
    "az.plot_forest(my_model_trace,\n",
    "               var_names=variable,\n",
    "               combined=True)"
   ]
  },
  {
   "cell_type": "code",
   "execution_count": null,
   "metadata": {},
   "outputs": [],
   "source": [
    "variable = 'tau'\n",
    "az.plot_forest(my_model_trace,\n",
    "               var_names=variable,\n",
    "               combined=True)"
   ]
  },
  {
   "cell_type": "code",
   "execution_count": null,
   "metadata": {},
   "outputs": [],
   "source": [
    "variable = 'lam'\n",
    "az.plot_forest(my_model_trace,\n",
    "               var_names=variable,\n",
    "               combined=True)"
   ]
  },
  {
   "cell_type": "code",
   "execution_count": null,
   "metadata": {},
   "outputs": [],
   "source": [
    "variable = 'c'\n",
    "az.plot_forest(my_model_trace,\n",
    "               var_names=variable,\n",
    "               combined=True)"
   ]
  },
  {
   "cell_type": "markdown",
   "metadata": {},
   "source": [
    "## Autocorrelations"
   ]
  },
  {
   "cell_type": "code",
   "execution_count": null,
   "metadata": {},
   "outputs": [],
   "source": [
    "with az.rc_context(rc={'plot.max_subplots': None}):\n",
    "    az.plot_autocorr(my_model_trace, combined=True)"
   ]
  },
  {
   "cell_type": "markdown",
   "metadata": {},
   "source": [
    "## Model?"
   ]
  },
  {
   "cell_type": "code",
   "execution_count": null,
   "metadata": {},
   "outputs": [],
   "source": [
    "model_path = models_dir + f\"tpore_double_expon_tau_tau0_same_membrane.nc\""
   ]
  },
  {
   "cell_type": "code",
   "execution_count": null,
   "metadata": {},
   "outputs": [],
   "source": [
    "spc_os.remove(model_path)\n",
    "my_model_trace.to_netcdf(model_path)"
   ]
  },
  {
   "cell_type": "code",
   "execution_count": null,
   "metadata": {},
   "outputs": [],
   "source": []
  }
 ],
 "metadata": {
  "kernelspec": {
   "display_name": "electroporation_modeling",
   "language": "python",
   "name": "electroporation_modeling"
  },
  "language_info": {
   "codemirror_mode": {
    "name": "ipython",
    "version": 3
   },
   "file_extension": ".py",
   "mimetype": "text/x-python",
   "name": "python",
   "nbconvert_exporter": "python",
   "pygments_lexer": "ipython3",
   "version": "3.9.6"
  },
  "widgets": {
   "application/vnd.jupyter.widget-state+json": {
    "state": {},
    "version_major": 2,
    "version_minor": 0
   }
  }
 },
 "nbformat": 4,
 "nbformat_minor": 4
}
