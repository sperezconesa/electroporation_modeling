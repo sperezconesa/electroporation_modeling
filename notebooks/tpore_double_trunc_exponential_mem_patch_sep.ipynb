{
 "cells": [
  {
   "cell_type": "code",
   "execution_count": null,
   "metadata": {},
   "outputs": [],
   "source": [
    "import pandas as pd\n",
    "import pymc3 as pm\n",
    "import numpy as np\n",
    "import seaborn as sns\n",
    "import arviz as az\n",
    "import theano.tensor as tt\n",
    "import matplotlib.pyplot as plt\n",
    "import spc_os\n",
    "from spc_vis import my_plot_ppc\n",
    "RANDOM_SEED = 28101990\n",
    "from pymc3 import DensityDist\n",
    "from pymc3.math import switch,exp\n",
    "import pickle\n",
    "\n",
    "import theano.tensor as T\n",
    "import scipy.stats as st"
   ]
  },
  {
   "cell_type": "code",
   "execution_count": null,
   "metadata": {},
   "outputs": [],
   "source": [
    "raw_data_dir = '../data/raw/'\n",
    "interim_data_dir = '../data/interim/'\n",
    "processed_data_dir = '../data/processed/'\n",
    "external_data_dir = '../data/external/'\n",
    "models_dir = '../models/'"
   ]
  },
  {
   "cell_type": "code",
   "execution_count": null,
   "metadata": {},
   "outputs": [],
   "source": [
    "model_path = models_dir + f\"kinetic_modelling_double_exp_mem_patch_sep.nc\""
   ]
  },
  {
   "cell_type": "code",
   "execution_count": null,
   "metadata": {},
   "outputs": [],
   "source": [
    "infer=True"
   ]
  },
  {
   "cell_type": "markdown",
   "metadata": {},
   "source": [
    "# Load data"
   ]
  },
  {
   "cell_type": "code",
   "execution_count": null,
   "metadata": {},
   "outputs": [],
   "source": [
    "df = pd.read_csv(f'{processed_data_dir}data.csv').drop('Unnamed: 0', axis=1)"
   ]
  },
  {
   "cell_type": "code",
   "execution_count": null,
   "metadata": {},
   "outputs": [],
   "source": [
    "df.head()"
   ]
  },
  {
   "cell_type": "code",
   "execution_count": null,
   "metadata": {},
   "outputs": [],
   "source": [
    "df.Replica=df.Replica.astype('category')"
   ]
  },
  {
   "cell_type": "code",
   "execution_count": null,
   "metadata": {},
   "outputs": [],
   "source": [
    "df['Replica_enc'] = df.Replica.cat.codes"
   ]
  },
  {
   "cell_type": "code",
   "execution_count": null,
   "metadata": {},
   "outputs": [],
   "source": [
    "category_dic = {\n",
    "    i:cat for i,cat in enumerate(np.unique(df['Replica']))\n",
    "}"
   ]
  },
  {
   "cell_type": "code",
   "execution_count": null,
   "metadata": {},
   "outputs": [],
   "source": [
    "category_dic"
   ]
  },
  {
   "cell_type": "markdown",
   "metadata": {},
   "source": [
    "## Visualize Data"
   ]
  },
  {
   "cell_type": "code",
   "execution_count": null,
   "metadata": {},
   "outputs": [],
   "source": [
    "df['tpore'].groupby(df['Replica']).describe()"
   ]
  },
  {
   "cell_type": "code",
   "execution_count": null,
   "metadata": {},
   "outputs": [],
   "source": [
    "min_val = df['tpore'].groupby(df['Replica']).min()"
   ]
  },
  {
   "cell_type": "code",
   "execution_count": null,
   "metadata": {},
   "outputs": [],
   "source": [
    "df['tpore'].hist(by=df['Replica'],sharex=True)"
   ]
  },
  {
   "cell_type": "code",
   "execution_count": null,
   "metadata": {},
   "outputs": [],
   "source": [
    "ordered_days = df.Replica.value_counts().index\n",
    "g = sns.FacetGrid(df, row=\"Replica\", row_order=ordered_days,\n",
    "                  height=1.7, aspect=4,)\n",
    "g.map(sns.kdeplot, \"tpore\")"
   ]
  },
  {
   "cell_type": "code",
   "execution_count": null,
   "metadata": {},
   "outputs": [],
   "source": [
    "df['tpore'].hist()"
   ]
  },
  {
   "cell_type": "markdown",
   "metadata": {},
   "source": [
    "# Hierarchical Model"
   ]
  },
  {
   "cell_type": "markdown",
   "metadata": {},
   "source": [
    "Define the model distribution for the data"
   ]
  },
  {
   "cell_type": "code",
   "execution_count": null,
   "metadata": {},
   "outputs": [],
   "source": [
    "def logp_exp_lag(tau_0, tau, tau_0_p, tau_p, c):\n",
    "    def logp_(t):\n",
    "        #return T.log(T.switch(T.lt(t, tau_0), np.finfo(np.float64).tiny,T.exp( - (t - tau_0) / tau)/ tau ))\n",
    "        f = T.switch(T.lt(t, tau_0), 0. , c * T.exp( - (t - tau_0) / tau ) / tau )\n",
    "        g = T.switch(T.lt(t, tau_0_p), 0. , (1 - c) * T.exp( - (t - tau_0_p) / tau_p ) / tau_p )\n",
    "        return T.log(f + g)\n",
    "    return  logp_"
   ]
  },
  {
   "cell_type": "code",
   "execution_count": null,
   "metadata": {},
   "outputs": [],
   "source": [
    "def exp_lag_cdf(t, tau_0, tau, tau_0_p, tau_p, c):\n",
    "    if t < tau_0:\n",
    "        cdf0 = 0.0\n",
    "    elif t >= tau_0:\n",
    "        cdf0 = c * (1-np.exp(-(t-tau_0)/tau))\n",
    "    if t < tau_0_p:\n",
    "        cdf1 = 0.0\n",
    "    elif t >= tau_0_p:\n",
    "        cdf1 = (1 - c) * (1-np.exp(-(t-tau_0_p)/tau_p))\n",
    "    return cdf0+cdf1"
   ]
  },
  {
   "cell_type": "code",
   "execution_count": null,
   "metadata": {},
   "outputs": [],
   "source": [
    "exp_lag_cdf_vec = np.vectorize(exp_lag_cdf)"
   ]
  },
  {
   "cell_type": "code",
   "execution_count": null,
   "metadata": {},
   "outputs": [],
   "source": [
    "class my_pdf(st.rv_continuous):\n",
    "    \n",
    "    def _cdf(self,t,tau_0, tau, tau_0_p, tau_p, c):\n",
    "        return exp_lag_cdf_vec(t, tau_0, tau, tau_0_p, tau_p, c)\n",
    "my_cv = my_pdf(a=0, name='my_pdf')"
   ]
  },
  {
   "cell_type": "code",
   "execution_count": null,
   "metadata": {},
   "outputs": [],
   "source": [
    "from pymc3.distributions import draw_values, generate_samples\n",
    "def random(point=None, size=None):\n",
    "    # draw a numerical value for the parameters\n",
    "    size = 1 if size is None else size\n",
    "    tau_0_, tau_, tau_0_p_, tau_p_, c_ = draw_values([tau_0, tau, tau_0_p, tau_p, c], point=point,size=size)\n",
    "    \n",
    " \n",
    "    return generate_samples(my_cv.rvs, tau=tau_, tau_0=tau_0_, tau_0_p=tau_0_p_, tau_p=tau_p_, c=c_, size=size)"
   ]
  },
  {
   "cell_type": "markdown",
   "metadata": {},
   "source": [
    "Generate some data to compare to the theoretical PDF"
   ]
  },
  {
   "cell_type": "code",
   "execution_count": null,
   "metadata": {},
   "outputs": [],
   "source": [
    "d = DensityDist.dist(logp_exp_lag).logp(0.5,1/3, 1, 1/2, 0.25)"
   ]
  },
  {
   "cell_type": "code",
   "execution_count": null,
   "metadata": {},
   "outputs": [],
   "source": [
    "l = []\n",
    "for i in range(1000):\n",
    "    l.append(my_cv.rvs(tau_0=0.5,tau=1/3,tau_0_p=1, tau_p=1/2, c=0.25 ))"
   ]
  },
  {
   "cell_type": "code",
   "execution_count": null,
   "metadata": {},
   "outputs": [],
   "source": [
    "plt.plot(np.linspace(0,10,100),np.exp(d(np.linspace(0,10,100)).eval()))\n",
    "_ = plt.hist(np.array(l), density=True)"
   ]
  },
  {
   "cell_type": "markdown",
   "metadata": {},
   "source": [
    "## Visualize Priors"
   ]
  },
  {
   "cell_type": "markdown",
   "metadata": {},
   "source": [
    "These are the shapes of the priors used."
   ]
  },
  {
   "cell_type": "code",
   "execution_count": null,
   "metadata": {},
   "outputs": [],
   "source": [
    "scale = 5\n",
    "d = st.halfnorm(scale=scale)\n",
    "x = np.linspace(0,10,100)\n",
    "plt.plot(x, d.pdf(x), 'k-', lw=2)"
   ]
  },
  {
   "cell_type": "code",
   "execution_count": null,
   "metadata": {},
   "outputs": [],
   "source": [
    "scale = 1\n",
    "d = st.norm(scale=scale,loc=1)\n",
    "x = np.linspace(0,1,100)\n",
    "plt.plot(x, d.pdf(x), 'k-', lw=2)"
   ]
  },
  {
   "cell_type": "markdown",
   "metadata": {},
   "source": [
    "## Run model"
   ]
  },
  {
   "cell_type": "code",
   "execution_count": null,
   "metadata": {},
   "outputs": [],
   "source": [
    "shape = df['Replica_enc'].unique().shape\n",
    "with pm.Model() as my_model:\n",
    "    tau = pm.HalfNormal('tau', sigma=5.,shape =shape)\n",
    "    tau_0 = pm.TruncatedNormal('tau_0', mu = min_val, sigma = 3, lower = 0, upper = min_val, shape =shape)\n",
    "    tau_p = pm.HalfNormal('tau_p', sigma=5.,shape =shape)\n",
    "    tau_0_p = pm.TruncatedNormal('tau_0_p', mu = tau_0, sigma = 3, lower = tau_0, shape =shape)\n",
    "    c = pm.TruncatedNormal('c', mu = 0.5, sigma = 0.25, lower = 0, upper = 1, shape =shape)\n",
    "    like = DensityDist('like', logp_exp_lag(tau_0[df['Replica_enc']],tau[df['Replica_enc']], tau_0_p[df['Replica_enc']],tau_p[df['Replica_enc']],c[df['Replica_enc']]), observed=df['tpore'], random=random)"
   ]
  },
  {
   "cell_type": "code",
   "execution_count": null,
   "metadata": {},
   "outputs": [],
   "source": [
    "if infer:\n",
    "    with my_model:\n",
    "        my_model_trace = pm.sample(4000, tune=3000,  random_seed=RANDOM_SEED)\n",
    "        ppc = pm.sample_posterior_predictive(my_model_trace,  random_seed=RANDOM_SEED, samples=40, size=1000)\n",
    "        my_model_trace = az.from_pymc3(trace=my_model_trace, posterior_predictive=ppc)\n",
    "        print('Done infering.')\n",
    "\n",
    "        my_model_trace = my_model_trace.assign_coords(tau_0_dim_0=[category_dic[i] for i in my_model_trace.posterior.tau_0_dim_0.to_index()])\n",
    "        my_model_trace = my_model_trace.assign_coords(tau_dim_0=[category_dic[i] for i in my_model_trace.posterior.tau_dim_0.to_index()])\n",
    "        my_model_trace = my_model_trace.assign_coords(tau_0_p_dim_0=[category_dic[i] for i in my_model_trace.posterior.tau_0_p_dim_0.to_index()])\n",
    "        my_model_trace = my_model_trace.assign_coords(tau_p_dim_0=[category_dic[i] for i in my_model_trace.posterior.tau_p_dim_0.to_index()])\n",
    "        my_model_trace = my_model_trace.assign_coords(c_dim_0=[category_dic[i] for i in my_model_trace.posterior.c_dim_0.to_index()])\n",
    "        \n",
    "        spc_os.remove(model_path)\n",
    "        my_model_trace.to_netcdf(model_path)\n",
    "else:\n",
    "    my_model_trace=az.from_netcdf(model_path)"
   ]
  },
  {
   "cell_type": "code",
   "execution_count": null,
   "metadata": {},
   "outputs": [],
   "source": [
    "my_model_trace = my_model_trace.assign_coords(like_dim_0=df['Replica'].to_numpy(),\n",
    "                                              groups='observed_data')\n",
    "my_model_trace = my_model_trace.assign_coords(like_dim_1=df['Replica'].unique().to_numpy(),\n",
    "                                              groups='posterior_predictive')\n",
    "my_model_trace = my_model_trace.assign_coords(tau_dim_0=df['Replica'].unique().to_numpy(),\n",
    "                                              groups='posterior')\n",
    "my_model_trace = my_model_trace.assign_coords(tau_0_dim_0=df['Replica'].unique().to_numpy(),\n",
    "                                              groups='posterior')\n",
    "my_model_trace = my_model_trace.assign_coords(tau_p_dim_0=df['Replica'].unique().to_numpy(),\n",
    "                                              groups='posterior')\n",
    "my_model_trace = my_model_trace.assign_coords(tau_0_p_dim_0=df['Replica'].unique().to_numpy(),\n",
    "                                              groups='posterior')\n",
    "my_model_trace = my_model_trace.assign_coords(c_dim_0=df['Replica'].unique().to_numpy(),\n",
    "                                              groups='posterior')\n",
    "my_model_trace.posterior_predictive = my_model_trace.posterior_predictive.rename({'like_dim_1':'Replica_enc'})\n",
    "my_model_trace.observed_data = my_model_trace.observed_data.rename({'like_dim_0':'Replica_enc'})"
   ]
  },
  {
   "cell_type": "markdown",
   "metadata": {},
   "source": [
    "## Analyze"
   ]
  },
  {
   "cell_type": "markdown",
   "metadata": {},
   "source": [
    "### Point Summaries"
   ]
  },
  {
   "cell_type": "markdown",
   "metadata": {},
   "source": [
    "Check that r_hat is approx 1 and that ess_mean is near to the number of steps."
   ]
  },
  {
   "cell_type": "code",
   "execution_count": null,
   "metadata": {},
   "outputs": [],
   "source": [
    "df_summary = az.summary(my_model_trace)\n",
    "with pd.option_context('display.max_rows', None):\n",
    "    print(df_summary)"
   ]
  },
  {
   "cell_type": "markdown",
   "metadata": {},
   "source": [
    "### Plot Traces (Posteriors)"
   ]
  },
  {
   "cell_type": "markdown",
   "metadata": {
    "jupyter": {
     "outputs_hidden": true
    },
    "tags": []
   },
   "source": [
    "#### with az.rc_context(rc={'plot.max_subplots': None}):\n",
    "        az.plot_trace(my_model_trace)"
   ]
  },
  {
   "cell_type": "markdown",
   "metadata": {},
   "source": [
    "### Autocorrelations"
   ]
  },
  {
   "cell_type": "code",
   "execution_count": null,
   "metadata": {
    "collapsed": true,
    "jupyter": {
     "outputs_hidden": true
    },
    "tags": []
   },
   "outputs": [],
   "source": [
    "with az.rc_context(rc={'plot.max_subplots': None}):\n",
    "    az.plot_autocorr(my_model_trace, combined=True)"
   ]
  },
  {
   "cell_type": "markdown",
   "metadata": {},
   "source": [
    "### Posterior Predictive Test"
   ]
  },
  {
   "cell_type": "code",
   "execution_count": null,
   "metadata": {},
   "outputs": [],
   "source": [
    "az.plot_ppc(my_model_trace,  flatten=['draw', 'chain', 'like_dim_0'], kind='kde') # flatten all dimension except the one we are interested in"
   ]
  },
  {
   "cell_type": "code",
   "execution_count": null,
   "metadata": {},
   "outputs": [],
   "source": [
    "az.plot_ppc(my_model_trace,  flatten=['draw', 'chain', 'like_dim_0'], kind='cumulative') # flatten all dimension except the one we are interested in"
   ]
  },
  {
   "cell_type": "markdown",
   "metadata": {},
   "source": [
    "### Compare parameter"
   ]
  },
  {
   "cell_type": "code",
   "execution_count": null,
   "metadata": {},
   "outputs": [],
   "source": [
    "variable = 'tau_0'\n",
    "az.plot_forest(my_model_trace,\n",
    "               var_names=variable,\n",
    "               combined=True)"
   ]
  },
  {
   "cell_type": "code",
   "execution_count": null,
   "metadata": {},
   "outputs": [],
   "source": [
    "variable = 'tau'\n",
    "az.plot_forest(my_model_trace,\n",
    "               var_names=variable,\n",
    "               combined=True)"
   ]
  },
  {
   "cell_type": "code",
   "execution_count": null,
   "metadata": {},
   "outputs": [],
   "source": [
    "variable = 'tau_0_p'\n",
    "az.plot_forest(my_model_trace,\n",
    "               var_names=variable,\n",
    "               combined=True)"
   ]
  },
  {
   "cell_type": "code",
   "execution_count": null,
   "metadata": {},
   "outputs": [],
   "source": [
    "variable = 'tau_p'\n",
    "az.plot_forest(my_model_trace,\n",
    "               var_names=variable,\n",
    "               combined=True)"
   ]
  },
  {
   "cell_type": "code",
   "execution_count": null,
   "metadata": {},
   "outputs": [],
   "source": [
    "variable = 'c'\n",
    "az.plot_forest(my_model_trace,\n",
    "               var_names=variable,\n",
    "               combined=True)"
   ]
  },
  {
   "cell_type": "code",
   "execution_count": null,
   "metadata": {},
   "outputs": [],
   "source": []
  }
 ],
 "metadata": {
  "kernelspec": {
   "display_name": "electroporation_modeling",
   "language": "python",
   "name": "electroporation_modeling"
  },
  "language_info": {
   "codemirror_mode": {
    "name": "ipython",
    "version": 3
   },
   "file_extension": ".py",
   "mimetype": "text/x-python",
   "name": "python",
   "nbconvert_exporter": "python",
   "pygments_lexer": "ipython3",
   "version": "3.8.6"
  },
  "widgets": {
   "application/vnd.jupyter.widget-state+json": {
    "state": {},
    "version_major": 2,
    "version_minor": 0
   }
  }
 },
 "nbformat": 4,
 "nbformat_minor": 4
}
