{
 "cells": [
  {
   "cell_type": "code",
   "execution_count": null,
   "id": "c64adf6a-c1c6-41b1-acab-9a94091b0325",
   "metadata": {},
   "outputs": [],
   "source": [
    "%load_ext autoreload\n",
    "%autoreload 2\n",
    "%load_ext lab_black"
   ]
  },
  {
   "cell_type": "code",
   "execution_count": null,
   "id": "043a1f4b-6041-472a-a05c-f674dfa3585b",
   "metadata": {},
   "outputs": [],
   "source": [
    "import sympy as sp\n",
    "from sympy import oo\n",
    "\n",
    "sp.init_printing()\n",
    "import matplotlib.pyplot as plt"
   ]
  },
  {
   "cell_type": "code",
   "execution_count": null,
   "id": "4d0b5a4f-5945-444c-8e73-2384de638b6d",
   "metadata": {},
   "outputs": [],
   "source": [
    "from sympy.solvers import solve"
   ]
  },
  {
   "cell_type": "code",
   "execution_count": null,
   "id": "097aa933-afbf-403f-bf91-ca8969489f9c",
   "metadata": {},
   "outputs": [],
   "source": [
    "from sympy import simplify"
   ]
  },
  {
   "cell_type": "markdown",
   "id": "682808a9-f408-4ce9-befa-154a642925fa",
   "metadata": {},
   "source": [
    "# Check normalization norebook\n",
    "\n",
    "Trying to check the normalization of the desired pdf"
   ]
  },
  {
   "cell_type": "code",
   "execution_count": null,
   "id": "269ad715-b21d-45c5-b21a-6efede042476",
   "metadata": {},
   "outputs": [],
   "source": [
    "sp.plotting.plot"
   ]
  },
  {
   "cell_type": "code",
   "execution_count": null,
   "id": "5f909721-fcd8-4ebc-8d89-117589d81048",
   "metadata": {},
   "outputs": [],
   "source": [
    "t, a0, a, b0, b, c = sp.symbols(\"t a0 a b0 b c\", positive=True)"
   ]
  },
  {
   "cell_type": "code",
   "execution_count": null,
   "id": "9ae4bfa3-4041-486f-8d04-d93a8c660dba",
   "metadata": {},
   "outputs": [],
   "source": [
    "f_t = sp.Piecewise((c * (sp.exp(-(t - a0) / a)) / a, t > a0), (0, t < a0))"
   ]
  },
  {
   "cell_type": "code",
   "execution_count": null,
   "id": "f8af89fc-8d45-471e-9b8d-ba8a850bdcaf",
   "metadata": {},
   "outputs": [],
   "source": [
    "g_t = sp.Piecewise(((1 - c) * (sp.exp(-(t - b0) / b)) / b, t > b0), (0, t < b0))"
   ]
  },
  {
   "cell_type": "code",
   "execution_count": null,
   "id": "f4ad1575-e359-454c-8bc8-340cf929be5d",
   "metadata": {},
   "outputs": [],
   "source": [
    "pore_t = g_t + f_t"
   ]
  },
  {
   "cell_type": "code",
   "execution_count": null,
   "id": "a4017b7b-474b-49f5-802e-a999bc4a5fab",
   "metadata": {},
   "outputs": [],
   "source": [
    "pore_t"
   ]
  },
  {
   "cell_type": "code",
   "execution_count": null,
   "id": "d5c7f276-afb4-4b6c-aec8-ea781742480f",
   "metadata": {},
   "outputs": [],
   "source": [
    "ax = sp.plotting.plot(\n",
    "    pore_t.subs([(c, 0.25), (b0, 0.5), (b, 0.5), (a0, 1), (a, 0.2)]),\n",
    "    xlim=[0, 3],\n",
    "    ylim=[0, 10],\n",
    ")"
   ]
  },
  {
   "cell_type": "code",
   "execution_count": null,
   "id": "690c21a5-7cea-4647-8def-eef0ece405c2",
   "metadata": {},
   "outputs": [],
   "source": [
    "integral = sp.integrate(pore_t, (t, 0, oo))"
   ]
  },
  {
   "cell_type": "code",
   "execution_count": null,
   "id": "e42f1cde-5729-4d35-997e-b714c09b2b3c",
   "metadata": {},
   "outputs": [],
   "source": [
    "_ = sp.plotting.plot(\n",
    "    integral.subs([(b0, 4.5), (b, 9.5), (a0, 1), (a, 0.2)]),\n",
    "    xlim=[0, 1],\n",
    "    xlabel=\"c\",\n",
    "    ylabel=\"f(c)\",\n",
    ")"
   ]
  }
 ],
 "metadata": {
  "kernelspec": {
   "display_name": "electroporation_modeling",
   "language": "python",
   "name": "electroporation_modeling"
  },
  "language_info": {
   "codemirror_mode": {
    "name": "ipython",
    "version": 3
   },
   "file_extension": ".py",
   "mimetype": "text/x-python",
   "name": "python",
   "nbconvert_exporter": "python",
   "pygments_lexer": "ipython3",
   "version": "3.8.6"
  },
  "widgets": {
   "application/vnd.jupyter.widget-state+json": {
    "state": {},
    "version_major": 2,
    "version_minor": 0
   }
  }
 },
 "nbformat": 4,
 "nbformat_minor": 5
}
